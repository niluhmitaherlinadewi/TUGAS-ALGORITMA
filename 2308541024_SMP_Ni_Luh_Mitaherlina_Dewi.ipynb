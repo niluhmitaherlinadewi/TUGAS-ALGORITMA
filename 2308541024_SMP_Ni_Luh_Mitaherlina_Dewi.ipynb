{
  "nbformat": 4,
  "nbformat_minor": 0,
  "metadata": {
    "colab": {
      "provenance": []
    },
    "kernelspec": {
      "name": "python3",
      "display_name": "Python 3"
    },
    "language_info": {
      "name": "python"
    }
  },
  "cells": [
    {
      "cell_type": "markdown",
      "source": [
        "Mencari nilai n pada persamaan kuadrat\n"
      ],
      "metadata": {
        "id": "Kl8QVDfHv8SB"
      }
    },
    {
      "cell_type": "code",
      "source": [
        "# Diketahui x memenuhi x**2+x-1 = 0.\n",
        "# Tentukan nilai dari n yang memenuhi x**2024-x**2025 = (x(1-x))**n\n",
        "# Penyelesain :\n",
        "import math\n",
        "x = 0.61803398875\n",
        "solusi = math.log(x**2024-x**2025)/math.log(x(1-x))\n",
        "print(solusi)"
      ],
      "metadata": {
        "colab": {
          "base_uri": "https://localhost:8080/",
          "height": 193
        },
        "id": "zrJH8lHdwDrj",
        "outputId": "e9cf0dce-98ac-45d8-d63a-51ccb3f30135"
      },
      "execution_count": null,
      "outputs": [
        {
          "output_type": "error",
          "ename": "ValueError",
          "evalue": "math domain error",
          "traceback": [
            "\u001b[0;31m---------------------------------------------------------------------------\u001b[0m",
            "\u001b[0;31mValueError\u001b[0m                                Traceback (most recent call last)",
            "\u001b[0;32m<ipython-input-10-0e37119f8339>\u001b[0m in \u001b[0;36m<cell line: 6>\u001b[0;34m()\u001b[0m\n\u001b[1;32m      4\u001b[0m \u001b[0;32mimport\u001b[0m \u001b[0mmath\u001b[0m\u001b[0;34m\u001b[0m\u001b[0;34m\u001b[0m\u001b[0m\n\u001b[1;32m      5\u001b[0m \u001b[0mx\u001b[0m \u001b[0;34m=\u001b[0m \u001b[0;36m0.61803398875\u001b[0m\u001b[0;34m\u001b[0m\u001b[0;34m\u001b[0m\u001b[0m\n\u001b[0;32m----> 6\u001b[0;31m \u001b[0msolusi\u001b[0m \u001b[0;34m=\u001b[0m \u001b[0mmath\u001b[0m\u001b[0;34m.\u001b[0m\u001b[0mlog\u001b[0m\u001b[0;34m(\u001b[0m\u001b[0mx\u001b[0m\u001b[0;34m**\u001b[0m\u001b[0;36m2024\u001b[0m\u001b[0;34m-\u001b[0m\u001b[0mx\u001b[0m\u001b[0;34m**\u001b[0m\u001b[0;36m2025\u001b[0m\u001b[0;34m)\u001b[0m\u001b[0;34m/\u001b[0m\u001b[0mmath\u001b[0m\u001b[0;34m.\u001b[0m\u001b[0mlog\u001b[0m\u001b[0;34m(\u001b[0m\u001b[0mx\u001b[0m\u001b[0;34m(\u001b[0m\u001b[0;36m1\u001b[0m\u001b[0;34m-\u001b[0m\u001b[0mx\u001b[0m\u001b[0;34m)\u001b[0m\u001b[0;34m)\u001b[0m\u001b[0;34m\u001b[0m\u001b[0;34m\u001b[0m\u001b[0m\n\u001b[0m\u001b[1;32m      7\u001b[0m \u001b[0mprint\u001b[0m\u001b[0;34m(\u001b[0m\u001b[0msolusi\u001b[0m\u001b[0;34m)\u001b[0m\u001b[0;34m\u001b[0m\u001b[0;34m\u001b[0m\u001b[0m\n",
            "\u001b[0;31mValueError\u001b[0m: math domain error"
          ]
        }
      ]
    },
    {
      "cell_type": "code",
      "source": [
        "x1 = 0.61803398875\n",
        "x2 = 1.61803398875\n",
        "print(x2**2024)"
      ],
      "metadata": {
        "colab": {
          "base_uri": "https://localhost:8080/",
          "height": 176
        },
        "id": "lFkTa70eyYqk",
        "outputId": "27b59444-2004-4b5c-bf26-0ce023b177f4"
      },
      "execution_count": null,
      "outputs": [
        {
          "output_type": "error",
          "ename": "OverflowError",
          "evalue": "(34, 'Numerical result out of range')",
          "traceback": [
            "\u001b[0;31m---------------------------------------------------------------------------\u001b[0m",
            "\u001b[0;31mOverflowError\u001b[0m                             Traceback (most recent call last)",
            "\u001b[0;32m<ipython-input-11-3249fb2b8a1e>\u001b[0m in \u001b[0;36m<cell line: 3>\u001b[0;34m()\u001b[0m\n\u001b[1;32m      1\u001b[0m \u001b[0mx1\u001b[0m \u001b[0;34m=\u001b[0m \u001b[0;36m0.61803398875\u001b[0m\u001b[0;34m\u001b[0m\u001b[0;34m\u001b[0m\u001b[0m\n\u001b[1;32m      2\u001b[0m \u001b[0mx2\u001b[0m \u001b[0;34m=\u001b[0m \u001b[0;36m1.61803398875\u001b[0m\u001b[0;34m\u001b[0m\u001b[0;34m\u001b[0m\u001b[0m\n\u001b[0;32m----> 3\u001b[0;31m \u001b[0mprint\u001b[0m\u001b[0;34m(\u001b[0m\u001b[0mx2\u001b[0m\u001b[0;34m**\u001b[0m\u001b[0;36m2024\u001b[0m\u001b[0;34m)\u001b[0m\u001b[0;34m\u001b[0m\u001b[0;34m\u001b[0m\u001b[0m\n\u001b[0m",
            "\u001b[0;31mOverflowError\u001b[0m: (34, 'Numerical result out of range')"
          ]
        }
      ]
    },
    {
      "cell_type": "code",
      "source": [
        "# masukkan nilai x antara x1 = 0.6180339887498949 atau x2 = -1.618033988749895\n",
        "x=float(input(\"Nilai x adalah \"))\n",
        "\n",
        "if x>0:\n",
        "    print(\"Nilai n adalah {}\".format(SMP_positif(x)))\n",
        "else:\n",
        "    print(\"Nilai n adalah {}\".format(SMP_negatif(x)))"
      ],
      "metadata": {
        "id": "W8EsrpXT4HBf",
        "colab": {
          "base_uri": "https://localhost:8080/",
          "height": 228
        },
        "outputId": "67b30a7a-fdf2-44b2-810a-df0239a4a135"
      },
      "execution_count": null,
      "outputs": [
        {
          "name": "stdout",
          "output_type": "stream",
          "text": [
            "Nilai x adalah 0.6180339887498949\n"
          ]
        },
        {
          "output_type": "error",
          "ename": "NameError",
          "evalue": "name 'SMP_positif' is not defined",
          "traceback": [
            "\u001b[0;31m---------------------------------------------------------------------------\u001b[0m",
            "\u001b[0;31mNameError\u001b[0m                                 Traceback (most recent call last)",
            "\u001b[0;32m<ipython-input-1-635bfa0cc4bd>\u001b[0m in \u001b[0;36m<cell line: 4>\u001b[0;34m()\u001b[0m\n\u001b[1;32m      3\u001b[0m \u001b[0;34m\u001b[0m\u001b[0m\n\u001b[1;32m      4\u001b[0m \u001b[0;32mif\u001b[0m \u001b[0mx\u001b[0m\u001b[0;34m>\u001b[0m\u001b[0;36m0\u001b[0m\u001b[0;34m:\u001b[0m\u001b[0;34m\u001b[0m\u001b[0;34m\u001b[0m\u001b[0m\n\u001b[0;32m----> 5\u001b[0;31m     \u001b[0mprint\u001b[0m\u001b[0;34m(\u001b[0m\u001b[0;34m\"Nilai n adalah {}\"\u001b[0m\u001b[0;34m.\u001b[0m\u001b[0mformat\u001b[0m\u001b[0;34m(\u001b[0m\u001b[0mSMP_positif\u001b[0m\u001b[0;34m(\u001b[0m\u001b[0mx\u001b[0m\u001b[0;34m)\u001b[0m\u001b[0;34m)\u001b[0m\u001b[0;34m)\u001b[0m\u001b[0;34m\u001b[0m\u001b[0;34m\u001b[0m\u001b[0m\n\u001b[0m\u001b[1;32m      6\u001b[0m \u001b[0;32melse\u001b[0m\u001b[0;34m:\u001b[0m\u001b[0;34m\u001b[0m\u001b[0;34m\u001b[0m\u001b[0m\n\u001b[1;32m      7\u001b[0m     \u001b[0mprint\u001b[0m\u001b[0;34m(\u001b[0m\u001b[0;34m\"Nilai n adalah {}\"\u001b[0m\u001b[0;34m.\u001b[0m\u001b[0mformat\u001b[0m\u001b[0;34m(\u001b[0m\u001b[0mSMP_negatif\u001b[0m\u001b[0;34m(\u001b[0m\u001b[0mx\u001b[0m\u001b[0;34m)\u001b[0m\u001b[0;34m)\u001b[0m\u001b[0;34m)\u001b[0m\u001b[0;34m\u001b[0m\u001b[0;34m\u001b[0m\u001b[0m\n",
            "\u001b[0;31mNameError\u001b[0m: name 'SMP_positif' is not defined"
          ]
        }
      ]
    },
    {
      "cell_type": "code",
      "source": [
        "# 1. Memanggil numpy\n",
        "import numpy as np\n",
        "# 2. Input nilai dari x\n",
        "x_24 = (-1 + np.sqrt(5)) / 2\n",
        "# 3. Menghitung sisi kiri dari persamaan\n",
        "sisi_kiri_24 = 2024 * np.log(np.abs(x_24)) + np.log(np.abs(1 - x_24))\n",
        "# 4. Menghitung sisi kanan persamaan\n",
        "sisi_kanan_24 = x_24 * (1 - x_24)\n",
        "# 5. Menghitung nilai n\n",
        "n_24 = sisi_kiri_24 / np.log(np.abs(sisi_kanan_24))\n",
        "\n",
        "print(f\"Nilai n adalah {n_24}\")"
      ],
      "metadata": {
        "id": "-IuwZx-CQ8Bc",
        "colab": {
          "base_uri": "https://localhost:8080/"
        },
        "outputId": "628721ed-abdf-4405-cb2a-606a5f7a5267"
      },
      "execution_count": 12,
      "outputs": [
        {
          "output_type": "stream",
          "name": "stdout",
          "text": [
            "Nilai n adalah 675.3333333333333\n"
          ]
        }
      ]
    },
    {
      "cell_type": "code",
      "source": [
        "# 1. Memanggil numpy\n",
        "import numpy as np\n",
        "# 2. Input nilai dari x\n",
        "x_24 = (-1 - np.sqrt(5)) / 2\n",
        "# 3. Menghitung sisi kiri dari persamaan\n",
        "sisi_kiri_24 = 2024 * np.log(np.abs(x_24)) + np.log(np.abs(1 - x_24))\n",
        "# 4. Menghitung sisi kanan persamaan\n",
        "sisi_kanan_24 = x_24 * (1 - x_24)\n",
        "# 5. Menghitung nilai n\n",
        "n_24 = sisi_kiri_24 / np.log(np.abs(sisi_kanan_24))\n",
        "\n",
        "print(f\"Nilai n adalah {n_24}\")"
      ],
      "metadata": {
        "colab": {
          "base_uri": "https://localhost:8080/"
        },
        "id": "5pBLWp8eij5X",
        "outputId": "c51ae1c2-b80d-4964-9b4c-f284bc599eb8"
      },
      "execution_count": 6,
      "outputs": [
        {
          "output_type": "stream",
          "name": "stdout",
          "text": [
            "Nilai n adalah 675.3333333333335\n"
          ]
        }
      ]
    },
    {
      "cell_type": "code",
      "source": [
        "# Diketahui x memenuhi x**2+x-1 = 0. Tentukan nilai dari n yang memenuhi x**2024-x**2025 = (x(1-x))**n\n",
        "# Kita dapat x yang memenuhi dengan rumus ABC :\n",
        "# x1_24 = (-1 + np.sqrt(5))/ 2\n",
        "# x2_24 = (-1 - np.sqrt(5))/ 2\n",
        "# Memanggil numpy\n",
        "import numpy as np\n",
        "# Mendefinisikan rumus mencari n\n",
        "def nilai_n(x_24) :\n",
        "  sisi_kiri_24 = 2024 * np.log(np.abs(x_24)) + np.log(np.abs(1 - x_24))\n",
        "  sisi_kanan_24 = x_24 * (1 - x_24)\n",
        "  n_24 = sisi_kiri_24 / np.log(np.abs(sisi_kanan_24))\n",
        "  return n_24\n",
        "\n",
        "# Mendapatkan nilai x berdasarkan nilai yang diinput\n",
        "nilai_x_24 = (input(\"Nilai x1 atau x2 yang akan anda ambil? \"))\n",
        "\n",
        "if nilai_x_24 == 'x1_24':\n",
        "  x1_24 = (-1 + np.sqrt(5)) / 2\n",
        "  n_24 = nilai_n(x_24)\n",
        "  print(f\"Nilai n yang memenuhi adalah {n_24}\")\n",
        "elif nilai_x_24 == 'x2_24':\n",
        "  x2_24 = (-1 - np.sqrt(5)) / 2\n",
        "  n_24 = nilai_n(x_24)\n",
        "  print(f\"Nilai n yang memenuhi adalah {n_24}\")\n",
        "else:\n",
        "  print(\"Error nilai x tidak ada pada soal\")"
      ],
      "metadata": {
        "colab": {
          "base_uri": "https://localhost:8080/"
        },
        "id": "Izvd3AKQjRfb",
        "outputId": "0cbf9a76-bb55-4ea8-980e-321790a5f46d"
      },
      "execution_count": 11,
      "outputs": [
        {
          "output_type": "stream",
          "name": "stdout",
          "text": [
            "Nilai x1 atau x2 yang akan anda ambil? x1_24\n",
            "Nilai n yang memenuhi adalah 675.3333333333335\n"
          ]
        }
      ]
    }
  ]
}