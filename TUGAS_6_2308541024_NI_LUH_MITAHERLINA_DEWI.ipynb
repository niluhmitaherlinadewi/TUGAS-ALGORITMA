{
  "nbformat": 4,
  "nbformat_minor": 0,
  "metadata": {
    "colab": {
      "provenance": []
    },
    "kernelspec": {
      "name": "python3",
      "display_name": "Python 3"
    },
    "language_info": {
      "name": "python"
    }
  },
  "cells": [
    {
      "cell_type": "code",
      "source": [
        "#2.20(Numpy)\n",
        "#2.20.1 (Perintah Dasar pada Numpy)\n",
        "import numpy as np\n",
        "s_24 = np.array([0,1,2,3,4,5])\n",
        "print(s_24)"
      ],
      "metadata": {
        "colab": {
          "base_uri": "https://localhost:8080/"
        },
        "id": "vyEG0JyCKKW3",
        "outputId": "81f761c6-813a-4a02-ce74-ffe3ee84f6b2"
      },
      "execution_count": null,
      "outputs": [
        {
          "output_type": "stream",
          "name": "stdout",
          "text": [
            "[0 1 2 3 4 5]\n"
          ]
        }
      ]
    },
    {
      "cell_type": "code",
      "source": [
        "s_24.ndim"
      ],
      "metadata": {
        "colab": {
          "base_uri": "https://localhost:8080/"
        },
        "id": "ckp3X_ixQp4Z",
        "outputId": "23fd7b89-e4fb-41c9-d905-cab864b0f996"
      },
      "execution_count": null,
      "outputs": [
        {
          "output_type": "execute_result",
          "data": {
            "text/plain": [
              "1"
            ]
          },
          "metadata": {},
          "execution_count": 2
        }
      ]
    },
    {
      "cell_type": "code",
      "source": [
        "s_24.shape"
      ],
      "metadata": {
        "colab": {
          "base_uri": "https://localhost:8080/"
        },
        "id": "t96FRhXuQqfD",
        "outputId": "bd89616f-7966-48b4-c494-ff08fcaea38a"
      },
      "execution_count": null,
      "outputs": [
        {
          "output_type": "execute_result",
          "data": {
            "text/plain": [
              "(6,)"
            ]
          },
          "metadata": {},
          "execution_count": 3
        }
      ]
    },
    {
      "cell_type": "code",
      "source": [
        "x_24 = np.array([[2,4,6,8],[1,3,5,7]])\n",
        "print(x_24)"
      ],
      "metadata": {
        "colab": {
          "base_uri": "https://localhost:8080/"
        },
        "id": "djX52ZUpOmvz",
        "outputId": "1031cb0c-7b85-4825-956b-c18df701c03a"
      },
      "execution_count": null,
      "outputs": [
        {
          "output_type": "stream",
          "name": "stdout",
          "text": [
            "[[2 4 6 8]\n",
            " [1 3 5 7]]\n"
          ]
        }
      ]
    },
    {
      "cell_type": "code",
      "source": [
        "x_24.ndim"
      ],
      "metadata": {
        "colab": {
          "base_uri": "https://localhost:8080/"
        },
        "id": "X33jnZTZQ0EU",
        "outputId": "58a951b2-57da-4505-afbe-78242a6f1d79"
      },
      "execution_count": null,
      "outputs": [
        {
          "output_type": "execute_result",
          "data": {
            "text/plain": [
              "2"
            ]
          },
          "metadata": {},
          "execution_count": 5
        }
      ]
    },
    {
      "cell_type": "code",
      "source": [
        "x_24.shape"
      ],
      "metadata": {
        "colab": {
          "base_uri": "https://localhost:8080/"
        },
        "id": "JhXQoZmdQz23",
        "outputId": "cc4979d7-79df-4ab6-e457-b6a9d69290fd"
      },
      "execution_count": null,
      "outputs": [
        {
          "output_type": "execute_result",
          "data": {
            "text/plain": [
              "(2, 4)"
            ]
          },
          "metadata": {},
          "execution_count": 6
        }
      ]
    },
    {
      "cell_type": "code",
      "source": [
        "b_24 = np.array([[[[1,2,3,4],[2,4,6,8]]],\n",
        "                 [[[2,3,5,7],[1,3,5,7]]],\n",
        "                 [[[3,6,9,12],[4,8,12,16]]],\n",
        "                 [[[5,10,15,20],[6,12,18,24]]]])\n",
        "print(b_24)"
      ],
      "metadata": {
        "colab": {
          "base_uri": "https://localhost:8080/"
        },
        "id": "TPfrcwS1PYIW",
        "outputId": "5a720abf-e70e-48d7-9d98-587b21f7d22b"
      },
      "execution_count": null,
      "outputs": [
        {
          "output_type": "stream",
          "name": "stdout",
          "text": [
            "[[[[ 1  2  3  4]\n",
            "   [ 2  4  6  8]]]\n",
            "\n",
            "\n",
            " [[[ 2  3  5  7]\n",
            "   [ 1  3  5  7]]]\n",
            "\n",
            "\n",
            " [[[ 3  6  9 12]\n",
            "   [ 4  8 12 16]]]\n",
            "\n",
            "\n",
            " [[[ 5 10 15 20]\n",
            "   [ 6 12 18 24]]]]\n"
          ]
        }
      ]
    },
    {
      "cell_type": "code",
      "source": [
        "b_24.ndim"
      ],
      "metadata": {
        "colab": {
          "base_uri": "https://localhost:8080/"
        },
        "id": "WIkenrEVQgU6",
        "outputId": "fe365f0d-9117-4661-a794-fc601e4a1344"
      },
      "execution_count": null,
      "outputs": [
        {
          "output_type": "execute_result",
          "data": {
            "text/plain": [
              "4"
            ]
          },
          "metadata": {},
          "execution_count": 8
        }
      ]
    },
    {
      "cell_type": "code",
      "source": [
        "b_24.shape"
      ],
      "metadata": {
        "colab": {
          "base_uri": "https://localhost:8080/"
        },
        "id": "-h8kbIFyQ9BA",
        "outputId": "a9e9fc32-c112-449c-e4fe-600f02c62f12"
      },
      "execution_count": null,
      "outputs": [
        {
          "output_type": "execute_result",
          "data": {
            "text/plain": [
              "(4, 1, 2, 4)"
            ]
          },
          "metadata": {},
          "execution_count": 9
        }
      ]
    },
    {
      "cell_type": "code",
      "source": [
        "#2.20.2(Memanggil Anggota, Kolom dan Baris dengan Numpy)\n",
        "m_24 = np.array([[8,9,10,11],[13,14,15,16],[18,19,20,21],[23,24,25,26]])\n",
        "print(m_24)"
      ],
      "metadata": {
        "colab": {
          "base_uri": "https://localhost:8080/"
        },
        "id": "eOAS1i3SQ_M2",
        "outputId": "c974e38c-15be-4841-a14c-7003860d0325"
      },
      "execution_count": null,
      "outputs": [
        {
          "output_type": "stream",
          "name": "stdout",
          "text": [
            "[[ 8  9 10 11]\n",
            " [13 14 15 16]\n",
            " [18 19 20 21]\n",
            " [23 24 25 26]]\n"
          ]
        }
      ]
    },
    {
      "cell_type": "code",
      "source": [
        "m_24[1,2]"
      ],
      "metadata": {
        "colab": {
          "base_uri": "https://localhost:8080/"
        },
        "id": "8Q3qL-FQRoha",
        "outputId": "e4a307ea-7b01-4f99-d3ea-02175aeda38d"
      },
      "execution_count": null,
      "outputs": [
        {
          "output_type": "execute_result",
          "data": {
            "text/plain": [
              "15"
            ]
          },
          "metadata": {},
          "execution_count": 11
        }
      ]
    },
    {
      "cell_type": "code",
      "source": [
        "m_24[1,:]"
      ],
      "metadata": {
        "colab": {
          "base_uri": "https://localhost:8080/"
        },
        "id": "VwH3ahsuRws1",
        "outputId": "84c4e116-68b7-4228-c752-f281ff59f57a"
      },
      "execution_count": null,
      "outputs": [
        {
          "output_type": "execute_result",
          "data": {
            "text/plain": [
              "array([13, 14, 15, 16])"
            ]
          },
          "metadata": {},
          "execution_count": 12
        }
      ]
    },
    {
      "cell_type": "code",
      "source": [
        "m_24[0,3]"
      ],
      "metadata": {
        "colab": {
          "base_uri": "https://localhost:8080/"
        },
        "id": "Mv9lniaUR7s4",
        "outputId": "c5cc3278-7971-4fcd-d621-a13ec0b97e02"
      },
      "execution_count": null,
      "outputs": [
        {
          "output_type": "execute_result",
          "data": {
            "text/plain": [
              "11"
            ]
          },
          "metadata": {},
          "execution_count": 13
        }
      ]
    },
    {
      "cell_type": "code",
      "source": [
        "m_24[3,1]"
      ],
      "metadata": {
        "colab": {
          "base_uri": "https://localhost:8080/"
        },
        "id": "SNPJHvrGSAwE",
        "outputId": "84ec4bd2-eae8-4670-8a28-c96cf3cdc880"
      },
      "execution_count": null,
      "outputs": [
        {
          "output_type": "execute_result",
          "data": {
            "text/plain": [
              "24"
            ]
          },
          "metadata": {},
          "execution_count": 14
        }
      ]
    },
    {
      "cell_type": "code",
      "source": [
        "m_24[1,2:3]"
      ],
      "metadata": {
        "colab": {
          "base_uri": "https://localhost:8080/"
        },
        "id": "qtwxWg2XSFcv",
        "outputId": "cf6e529f-6e4d-40c3-c826-94149cba675b"
      },
      "execution_count": null,
      "outputs": [
        {
          "output_type": "execute_result",
          "data": {
            "text/plain": [
              "array([15])"
            ]
          },
          "metadata": {},
          "execution_count": 15
        }
      ]
    },
    {
      "cell_type": "code",
      "source": [
        "m_24[0,1:2]"
      ],
      "metadata": {
        "colab": {
          "base_uri": "https://localhost:8080/"
        },
        "id": "tBS_uqZ2SKQk",
        "outputId": "534e3d63-8161-445f-d46b-3a2657fc9e6c"
      },
      "execution_count": null,
      "outputs": [
        {
          "output_type": "execute_result",
          "data": {
            "text/plain": [
              "array([9])"
            ]
          },
          "metadata": {},
          "execution_count": 16
        }
      ]
    },
    {
      "cell_type": "code",
      "source": [
        "m_24[0,1:3:2]"
      ],
      "metadata": {
        "colab": {
          "base_uri": "https://localhost:8080/"
        },
        "id": "BpinBPVdSWkE",
        "outputId": "409731c6-8649-40f1-a3b8-b3073d938df8"
      },
      "execution_count": null,
      "outputs": [
        {
          "output_type": "execute_result",
          "data": {
            "text/plain": [
              "array([9])"
            ]
          },
          "metadata": {},
          "execution_count": 17
        }
      ]
    },
    {
      "cell_type": "code",
      "source": [
        "m_24[0,0:3:1]"
      ],
      "metadata": {
        "colab": {
          "base_uri": "https://localhost:8080/"
        },
        "id": "3ugI4w5gSguT",
        "outputId": "f9db0853-f134-443a-88f0-809e1c9c28a1"
      },
      "execution_count": null,
      "outputs": [
        {
          "output_type": "execute_result",
          "data": {
            "text/plain": [
              "array([ 8,  9, 10])"
            ]
          },
          "metadata": {},
          "execution_count": 18
        }
      ]
    },
    {
      "cell_type": "code",
      "source": [
        "m_24[0,2] = 22\n",
        "print(m_24)"
      ],
      "metadata": {
        "colab": {
          "base_uri": "https://localhost:8080/"
        },
        "id": "L_1wBTunSnCd",
        "outputId": "6230545e-eeaf-44c8-dc2b-adfb96fffdc1"
      },
      "execution_count": null,
      "outputs": [
        {
          "output_type": "stream",
          "name": "stdout",
          "text": [
            "[[ 8  9 22 11]\n",
            " [13 14 15 16]\n",
            " [18 19 20 21]\n",
            " [23 24 25 26]]\n"
          ]
        }
      ]
    },
    {
      "cell_type": "code",
      "source": [
        "m_24[1,1] = 17\n",
        "print(m_24)"
      ],
      "metadata": {
        "colab": {
          "base_uri": "https://localhost:8080/"
        },
        "id": "W9_J8hOTSxXb",
        "outputId": "907c6ba4-d64b-466d-8e73-6d6c3554034d"
      },
      "execution_count": null,
      "outputs": [
        {
          "output_type": "stream",
          "name": "stdout",
          "text": [
            "[[ 8  9 22 11]\n",
            " [13 17 15 16]\n",
            " [18 19 20 21]\n",
            " [23 24 25 26]]\n"
          ]
        }
      ]
    },
    {
      "cell_type": "code",
      "source": [
        "#2.20.3 (Matrix pada Numpy)_24\n",
        "np.ones((4,5))"
      ],
      "metadata": {
        "id": "AXT-taz0S5r_",
        "colab": {
          "base_uri": "https://localhost:8080/"
        },
        "outputId": "62a21b8a-24ee-4eec-e173-6a315eea4e10"
      },
      "execution_count": null,
      "outputs": [
        {
          "output_type": "execute_result",
          "data": {
            "text/plain": [
              "array([[1., 1., 1., 1., 1.],\n",
              "       [1., 1., 1., 1., 1.],\n",
              "       [1., 1., 1., 1., 1.],\n",
              "       [1., 1., 1., 1., 1.]])"
            ]
          },
          "metadata": {},
          "execution_count": 21
        }
      ]
    },
    {
      "cell_type": "code",
      "source": [
        "np.zeros((3,6))"
      ],
      "metadata": {
        "colab": {
          "base_uri": "https://localhost:8080/"
        },
        "id": "OycX7dSyf_AB",
        "outputId": "c5589ebb-e15f-4130-df01-8f7abf64bea7"
      },
      "execution_count": null,
      "outputs": [
        {
          "output_type": "execute_result",
          "data": {
            "text/plain": [
              "array([[0., 0., 0., 0., 0., 0.],\n",
              "       [0., 0., 0., 0., 0., 0.],\n",
              "       [0., 0., 0., 0., 0., 0.]])"
            ]
          },
          "metadata": {},
          "execution_count": 22
        }
      ]
    },
    {
      "cell_type": "code",
      "source": [
        "np.identity(6)"
      ],
      "metadata": {
        "colab": {
          "base_uri": "https://localhost:8080/"
        },
        "id": "lo3c6tskgNLb",
        "outputId": "38f51857-14e4-42cc-854d-2c1f9e0a7430"
      },
      "execution_count": null,
      "outputs": [
        {
          "output_type": "execute_result",
          "data": {
            "text/plain": [
              "array([[1., 0., 0., 0., 0., 0.],\n",
              "       [0., 1., 0., 0., 0., 0.],\n",
              "       [0., 0., 1., 0., 0., 0.],\n",
              "       [0., 0., 0., 1., 0., 0.],\n",
              "       [0., 0., 0., 0., 1., 0.],\n",
              "       [0., 0., 0., 0., 0., 1.]])"
            ]
          },
          "metadata": {},
          "execution_count": 23
        }
      ]
    },
    {
      "cell_type": "code",
      "source": [
        "np.ones((3,4,3))"
      ],
      "metadata": {
        "colab": {
          "base_uri": "https://localhost:8080/"
        },
        "id": "o6uu_YHGggen",
        "outputId": "e58d11b9-355e-437b-ddf8-5e5150bf74a3"
      },
      "execution_count": null,
      "outputs": [
        {
          "output_type": "execute_result",
          "data": {
            "text/plain": [
              "array([[[1., 1., 1.],\n",
              "        [1., 1., 1.],\n",
              "        [1., 1., 1.],\n",
              "        [1., 1., 1.]],\n",
              "\n",
              "       [[1., 1., 1.],\n",
              "        [1., 1., 1.],\n",
              "        [1., 1., 1.],\n",
              "        [1., 1., 1.]],\n",
              "\n",
              "       [[1., 1., 1.],\n",
              "        [1., 1., 1.],\n",
              "        [1., 1., 1.],\n",
              "        [1., 1., 1.]]])"
            ]
          },
          "metadata": {},
          "execution_count": 24
        }
      ]
    },
    {
      "cell_type": "code",
      "source": [
        "np.ones((1,3,4))"
      ],
      "metadata": {
        "colab": {
          "base_uri": "https://localhost:8080/"
        },
        "id": "ndrqPDLWgkIM",
        "outputId": "71e5f4f0-2291-4dac-e653-a7b2e1fc3e01"
      },
      "execution_count": null,
      "outputs": [
        {
          "output_type": "execute_result",
          "data": {
            "text/plain": [
              "array([[[1., 1., 1., 1.],\n",
              "        [1., 1., 1., 1.],\n",
              "        [1., 1., 1., 1.]]])"
            ]
          },
          "metadata": {},
          "execution_count": 25
        }
      ]
    },
    {
      "cell_type": "code",
      "source": [
        "np.full((5,3),7)"
      ],
      "metadata": {
        "colab": {
          "base_uri": "https://localhost:8080/"
        },
        "id": "HELRTYZ0g-5w",
        "outputId": "46836f0e-5ed9-4444-d4c1-f466b2f0177a"
      },
      "execution_count": null,
      "outputs": [
        {
          "output_type": "execute_result",
          "data": {
            "text/plain": [
              "array([[7, 7, 7],\n",
              "       [7, 7, 7],\n",
              "       [7, 7, 7],\n",
              "       [7, 7, 7],\n",
              "       [7, 7, 7]])"
            ]
          },
          "metadata": {},
          "execution_count": 26
        }
      ]
    },
    {
      "cell_type": "code",
      "source": [
        "np.random.rand(3,4)"
      ],
      "metadata": {
        "colab": {
          "base_uri": "https://localhost:8080/"
        },
        "id": "FLXSPlMMhKlZ",
        "outputId": "983efc47-d02d-44e5-bc0b-0479735cfa22"
      },
      "execution_count": null,
      "outputs": [
        {
          "output_type": "execute_result",
          "data": {
            "text/plain": [
              "array([[0.65080165, 0.12798109, 0.09776185, 0.36685757],\n",
              "       [0.53207525, 0.0043743 , 0.82246409, 0.05799131],\n",
              "       [0.6213593 , 0.06171276, 0.33633636, 0.34235171]])"
            ]
          },
          "metadata": {},
          "execution_count": 27
        }
      ]
    },
    {
      "cell_type": "code",
      "source": [
        "np.random.randint(1,15,size=(4,3))"
      ],
      "metadata": {
        "colab": {
          "base_uri": "https://localhost:8080/"
        },
        "id": "AqYkPImmha3s",
        "outputId": "1b1ea096-ed44-46ed-89a9-8023c28aec29"
      },
      "execution_count": null,
      "outputs": [
        {
          "output_type": "execute_result",
          "data": {
            "text/plain": [
              "array([[ 2, 14, 10],\n",
              "       [10, 10,  6],\n",
              "       [ 1,  6, 13],\n",
              "       [13, 14,  9]])"
            ]
          },
          "metadata": {},
          "execution_count": 28
        }
      ]
    },
    {
      "cell_type": "code",
      "source": [
        "#Matrik ukuran 10x10\n",
        "h_24 = np.zeros((10,10))\n",
        "print(h_24)"
      ],
      "metadata": {
        "colab": {
          "base_uri": "https://localhost:8080/"
        },
        "id": "QJKOfgQOhziE",
        "outputId": "12990980-7ccc-4cf3-eb16-4ae10b84e54c"
      },
      "execution_count": null,
      "outputs": [
        {
          "output_type": "stream",
          "name": "stdout",
          "text": [
            "[[0. 0. 0. 0. 0. 0. 0. 0. 0. 0.]\n",
            " [0. 0. 0. 0. 0. 0. 0. 0. 0. 0.]\n",
            " [0. 0. 0. 0. 0. 0. 0. 0. 0. 0.]\n",
            " [0. 0. 0. 0. 0. 0. 0. 0. 0. 0.]\n",
            " [0. 0. 0. 0. 0. 0. 0. 0. 0. 0.]\n",
            " [0. 0. 0. 0. 0. 0. 0. 0. 0. 0.]\n",
            " [0. 0. 0. 0. 0. 0. 0. 0. 0. 0.]\n",
            " [0. 0. 0. 0. 0. 0. 0. 0. 0. 0.]\n",
            " [0. 0. 0. 0. 0. 0. 0. 0. 0. 0.]\n",
            " [0. 0. 0. 0. 0. 0. 0. 0. 0. 0.]]\n"
          ]
        }
      ]
    },
    {
      "cell_type": "code",
      "source": [
        "e_24 = np.identity(10)\n",
        "print(e_24)"
      ],
      "metadata": {
        "colab": {
          "base_uri": "https://localhost:8080/"
        },
        "id": "nI6nQsnMilWR",
        "outputId": "d967869e-7641-4661-ba06-c02a90e70a03"
      },
      "execution_count": null,
      "outputs": [
        {
          "output_type": "stream",
          "name": "stdout",
          "text": [
            "[[1. 0. 0. 0. 0. 0. 0. 0. 0. 0.]\n",
            " [0. 1. 0. 0. 0. 0. 0. 0. 0. 0.]\n",
            " [0. 0. 1. 0. 0. 0. 0. 0. 0. 0.]\n",
            " [0. 0. 0. 1. 0. 0. 0. 0. 0. 0.]\n",
            " [0. 0. 0. 0. 1. 0. 0. 0. 0. 0.]\n",
            " [0. 0. 0. 0. 0. 1. 0. 0. 0. 0.]\n",
            " [0. 0. 0. 0. 0. 0. 1. 0. 0. 0.]\n",
            " [0. 0. 0. 0. 0. 0. 0. 1. 0. 0.]\n",
            " [0. 0. 0. 0. 0. 0. 0. 0. 1. 0.]\n",
            " [0. 0. 0. 0. 0. 0. 0. 0. 0. 1.]]\n"
          ]
        }
      ]
    },
    {
      "cell_type": "code",
      "source": [
        "r_24 = 5*e_24\n",
        "print(r_24)"
      ],
      "metadata": {
        "colab": {
          "base_uri": "https://localhost:8080/"
        },
        "id": "05jnc0jwi-96",
        "outputId": "7cc6eea6-9d2c-4c07-c013-3ab3c4352b32"
      },
      "execution_count": null,
      "outputs": [
        {
          "output_type": "stream",
          "name": "stdout",
          "text": [
            "[[5. 0. 0. 0. 0. 0. 0. 0. 0. 0.]\n",
            " [0. 5. 0. 0. 0. 0. 0. 0. 0. 0.]\n",
            " [0. 0. 5. 0. 0. 0. 0. 0. 0. 0.]\n",
            " [0. 0. 0. 5. 0. 0. 0. 0. 0. 0.]\n",
            " [0. 0. 0. 0. 5. 0. 0. 0. 0. 0.]\n",
            " [0. 0. 0. 0. 0. 5. 0. 0. 0. 0.]\n",
            " [0. 0. 0. 0. 0. 0. 5. 0. 0. 0.]\n",
            " [0. 0. 0. 0. 0. 0. 0. 5. 0. 0.]\n",
            " [0. 0. 0. 0. 0. 0. 0. 0. 5. 0.]\n",
            " [0. 0. 0. 0. 0. 0. 0. 0. 0. 5.]]\n"
          ]
        }
      ]
    },
    {
      "cell_type": "code",
      "source": [
        "l_24 = np.ones((8,8))\n",
        "i_24 = np.identity(8)*7\n",
        "n_24 = l_24+i_24\n",
        "print(n_24)"
      ],
      "metadata": {
        "colab": {
          "base_uri": "https://localhost:8080/"
        },
        "id": "QR3CBl9VjGqy",
        "outputId": "4f3dbfdf-881b-4b30-9526-75e3c2901fc6"
      },
      "execution_count": null,
      "outputs": [
        {
          "output_type": "stream",
          "name": "stdout",
          "text": [
            "[[8. 1. 1. 1. 1. 1. 1. 1.]\n",
            " [1. 8. 1. 1. 1. 1. 1. 1.]\n",
            " [1. 1. 8. 1. 1. 1. 1. 1.]\n",
            " [1. 1. 1. 8. 1. 1. 1. 1.]\n",
            " [1. 1. 1. 1. 8. 1. 1. 1.]\n",
            " [1. 1. 1. 1. 1. 8. 1. 1.]\n",
            " [1. 1. 1. 1. 1. 1. 8. 1.]\n",
            " [1. 1. 1. 1. 1. 1. 1. 8.]]\n"
          ]
        }
      ]
    },
    {
      "cell_type": "code",
      "source": [
        "e_24[0:-2,1:-1] = n_24\n",
        "print(e_24)"
      ],
      "metadata": {
        "id": "cvcdtqBDkNas",
        "colab": {
          "base_uri": "https://localhost:8080/"
        },
        "outputId": "8550e3e0-5639-4188-ccbf-bc617788e192"
      },
      "execution_count": null,
      "outputs": [
        {
          "output_type": "stream",
          "name": "stdout",
          "text": [
            "[[1. 8. 1. 1. 1. 1. 1. 1. 1. 0.]\n",
            " [0. 1. 8. 1. 1. 1. 1. 1. 1. 0.]\n",
            " [0. 1. 1. 8. 1. 1. 1. 1. 1. 0.]\n",
            " [0. 1. 1. 1. 8. 1. 1. 1. 1. 0.]\n",
            " [0. 1. 1. 1. 1. 8. 1. 1. 1. 0.]\n",
            " [0. 1. 1. 1. 1. 1. 8. 1. 1. 0.]\n",
            " [0. 1. 1. 1. 1. 1. 1. 8. 1. 0.]\n",
            " [0. 1. 1. 1. 1. 1. 1. 1. 8. 0.]\n",
            " [0. 0. 0. 0. 0. 0. 0. 0. 1. 0.]\n",
            " [0. 0. 0. 0. 0. 0. 0. 0. 0. 1.]]\n"
          ]
        }
      ]
    },
    {
      "cell_type": "code",
      "source": [
        "e_24[1:-1,1:-1] = n_24\n",
        "print(e_24)"
      ],
      "metadata": {
        "id": "8n88EhDDKK6G",
        "colab": {
          "base_uri": "https://localhost:8080/"
        },
        "outputId": "56e8d519-ccc9-4d35-daf1-df1cbb72729f"
      },
      "execution_count": null,
      "outputs": [
        {
          "output_type": "stream",
          "name": "stdout",
          "text": [
            "[[1. 8. 1. 1. 1. 1. 1. 1. 1. 0.]\n",
            " [0. 8. 1. 1. 1. 1. 1. 1. 1. 0.]\n",
            " [0. 1. 8. 1. 1. 1. 1. 1. 1. 0.]\n",
            " [0. 1. 1. 8. 1. 1. 1. 1. 1. 0.]\n",
            " [0. 1. 1. 1. 8. 1. 1. 1. 1. 0.]\n",
            " [0. 1. 1. 1. 1. 8. 1. 1. 1. 0.]\n",
            " [0. 1. 1. 1. 1. 1. 8. 1. 1. 0.]\n",
            " [0. 1. 1. 1. 1. 1. 1. 8. 1. 0.]\n",
            " [0. 1. 1. 1. 1. 1. 1. 1. 8. 0.]\n",
            " [0. 0. 0. 0. 0. 0. 0. 0. 0. 1.]]\n"
          ]
        }
      ]
    },
    {
      "cell_type": "code",
      "source": [
        "a_24 = np.identity(6)*9\n",
        "e_24[2:-2,2:-2] = a_24\n",
        "print(e_24)"
      ],
      "metadata": {
        "id": "8ZDazrgeKdSA",
        "colab": {
          "base_uri": "https://localhost:8080/"
        },
        "outputId": "0f092523-3a82-4ef7-e4f0-6ad0b6956765"
      },
      "execution_count": null,
      "outputs": [
        {
          "output_type": "stream",
          "name": "stdout",
          "text": [
            "[[1. 8. 1. 1. 1. 1. 1. 1. 1. 0.]\n",
            " [0. 8. 1. 1. 1. 1. 1. 1. 1. 0.]\n",
            " [0. 1. 9. 0. 0. 0. 0. 0. 1. 0.]\n",
            " [0. 1. 0. 9. 0. 0. 0. 0. 1. 0.]\n",
            " [0. 1. 0. 0. 9. 0. 0. 0. 1. 0.]\n",
            " [0. 1. 0. 0. 0. 9. 0. 0. 1. 0.]\n",
            " [0. 1. 0. 0. 0. 0. 9. 0. 1. 0.]\n",
            " [0. 1. 0. 0. 0. 0. 0. 9. 1. 0.]\n",
            " [0. 1. 1. 1. 1. 1. 1. 1. 8. 0.]\n",
            " [0. 0. 0. 0. 0. 0. 0. 0. 0. 1.]]\n"
          ]
        }
      ]
    },
    {
      "cell_type": "code",
      "source": [
        "c_24 = np.ones((4,4))*3\n",
        "d_24 = np.identity(4)*2\n",
        "f_24 = c_24 + d_24\n",
        "print(f_24)"
      ],
      "metadata": {
        "colab": {
          "base_uri": "https://localhost:8080/"
        },
        "id": "z9xU_MyM0PHS",
        "outputId": "7f7189ed-f5fb-47db-e4a6-3070f2f2b3c5"
      },
      "execution_count": null,
      "outputs": [
        {
          "output_type": "stream",
          "name": "stdout",
          "text": [
            "[[5. 3. 3. 3.]\n",
            " [3. 5. 3. 3.]\n",
            " [3. 3. 5. 3.]\n",
            " [3. 3. 3. 5.]]\n"
          ]
        }
      ]
    },
    {
      "cell_type": "code",
      "source": [
        "e_24[3:-3,3:-3] = 1\n",
        "print(e_24)"
      ],
      "metadata": {
        "colab": {
          "base_uri": "https://localhost:8080/"
        },
        "id": "64WyVcsE0z3I",
        "outputId": "96cbd652-924e-4f17-cee8-5a5510dcac01"
      },
      "execution_count": null,
      "outputs": [
        {
          "output_type": "stream",
          "name": "stdout",
          "text": [
            "[[1. 8. 1. 1. 1. 1. 1. 1. 1. 0.]\n",
            " [0. 8. 1. 1. 1. 1. 1. 1. 1. 0.]\n",
            " [0. 1. 9. 0. 0. 0. 0. 0. 1. 0.]\n",
            " [0. 1. 0. 1. 1. 1. 1. 0. 1. 0.]\n",
            " [0. 1. 0. 1. 1. 1. 1. 0. 1. 0.]\n",
            " [0. 1. 0. 1. 1. 1. 1. 0. 1. 0.]\n",
            " [0. 1. 0. 1. 1. 1. 1. 0. 1. 0.]\n",
            " [0. 1. 0. 0. 0. 0. 0. 9. 1. 0.]\n",
            " [0. 1. 1. 1. 1. 1. 1. 1. 8. 0.]\n",
            " [0. 0. 0. 0. 0. 0. 0. 0. 0. 1.]]\n"
          ]
        }
      ]
    },
    {
      "cell_type": "code",
      "source": [
        "g_24 = np.identity(2)*7\n",
        "e_24[4:-4,4:-4]\n",
        "print(e_24)"
      ],
      "metadata": {
        "colab": {
          "base_uri": "https://localhost:8080/"
        },
        "id": "HhEViwkX1f77",
        "outputId": "99e43ce6-181a-4a0c-bed8-ba87bf82d1c2"
      },
      "execution_count": null,
      "outputs": [
        {
          "output_type": "stream",
          "name": "stdout",
          "text": [
            "[[1. 8. 1. 1. 1. 1. 1. 1. 1. 0.]\n",
            " [0. 8. 1. 1. 1. 1. 1. 1. 1. 0.]\n",
            " [0. 1. 9. 0. 0. 0. 0. 0. 1. 0.]\n",
            " [0. 1. 0. 1. 1. 1. 1. 0. 1. 0.]\n",
            " [0. 1. 0. 1. 1. 1. 1. 0. 1. 0.]\n",
            " [0. 1. 0. 1. 1. 1. 1. 0. 1. 0.]\n",
            " [0. 1. 0. 1. 1. 1. 1. 0. 1. 0.]\n",
            " [0. 1. 0. 0. 0. 0. 0. 9. 1. 0.]\n",
            " [0. 1. 1. 1. 1. 1. 1. 1. 8. 0.]\n",
            " [0. 0. 0. 0. 0. 0. 0. 0. 0. 1.]]\n"
          ]
        }
      ]
    },
    {
      "cell_type": "code",
      "source": [
        "#2.20.4 Copy pada Numpy\n",
        "h_24 = np.array([2,3,5,7,11])\n",
        "print(h_24)"
      ],
      "metadata": {
        "colab": {
          "base_uri": "https://localhost:8080/"
        },
        "id": "jOqFLpL12kRO",
        "outputId": "1f1773df-da43-4070-ce92-9307f2e574f9"
      },
      "execution_count": null,
      "outputs": [
        {
          "output_type": "stream",
          "name": "stdout",
          "text": [
            "[ 2  3  5  7 11]\n"
          ]
        }
      ]
    },
    {
      "cell_type": "code",
      "source": [
        "j_24 = h_24\n",
        "print(j_24)"
      ],
      "metadata": {
        "colab": {
          "base_uri": "https://localhost:8080/"
        },
        "id": "KPGtZdrx4GzZ",
        "outputId": "208e78b7-458a-476b-d3c3-20cb839735c0"
      },
      "execution_count": null,
      "outputs": [
        {
          "output_type": "stream",
          "name": "stdout",
          "text": [
            "[ 2  3  5  7 11]\n"
          ]
        }
      ]
    },
    {
      "cell_type": "code",
      "source": [
        "j_24[2] = 20\n",
        "print(j_24)"
      ],
      "metadata": {
        "colab": {
          "base_uri": "https://localhost:8080/"
        },
        "id": "aB02ImYd4ZDW",
        "outputId": "1043e54b-a0e7-463e-883b-dca226799765"
      },
      "execution_count": null,
      "outputs": [
        {
          "output_type": "stream",
          "name": "stdout",
          "text": [
            "[ 2  3 20  7 11]\n"
          ]
        }
      ]
    },
    {
      "cell_type": "code",
      "source": [
        "print(h_24)"
      ],
      "metadata": {
        "colab": {
          "base_uri": "https://localhost:8080/"
        },
        "id": "HMVowe814fnX",
        "outputId": "12d84386-7b94-4326-ee66-adb554d5ed8f"
      },
      "execution_count": null,
      "outputs": [
        {
          "output_type": "stream",
          "name": "stdout",
          "text": [
            "[ 2  3 20  7 11]\n"
          ]
        }
      ]
    },
    {
      "cell_type": "code",
      "source": [
        "k_24 = np.array([20,22,24,26])\n",
        "print(k_24)"
      ],
      "metadata": {
        "colab": {
          "base_uri": "https://localhost:8080/"
        },
        "id": "BuHhWA7B5GNi",
        "outputId": "dafaa4e5-4138-4ae3-c79f-0c68b01f1ab0"
      },
      "execution_count": null,
      "outputs": [
        {
          "output_type": "stream",
          "name": "stdout",
          "text": [
            "[20 22 24 26]\n"
          ]
        }
      ]
    },
    {
      "cell_type": "code",
      "source": [
        "o_24 = k_24.copy()\n",
        "print(o_24)"
      ],
      "metadata": {
        "colab": {
          "base_uri": "https://localhost:8080/"
        },
        "id": "vjMkWn2T5dl_",
        "outputId": "ae305f39-e6aa-4f2b-a297-d86d4bc34ff2"
      },
      "execution_count": null,
      "outputs": [
        {
          "output_type": "stream",
          "name": "stdout",
          "text": [
            "[20 22 24 26]\n"
          ]
        }
      ]
    },
    {
      "cell_type": "code",
      "source": [
        "print(k_24)"
      ],
      "metadata": {
        "colab": {
          "base_uri": "https://localhost:8080/"
        },
        "id": "Wn6GWA1c5m6L",
        "outputId": "190390f0-1b36-4d1f-e794-af18b2d2eed3"
      },
      "execution_count": null,
      "outputs": [
        {
          "output_type": "stream",
          "name": "stdout",
          "text": [
            "[20 22 24 26]\n"
          ]
        }
      ]
    },
    {
      "cell_type": "code",
      "source": [
        "#2.20.5 Operasi Matematika pada Numpy\n",
        "b_24+4"
      ],
      "metadata": {
        "colab": {
          "base_uri": "https://localhost:8080/"
        },
        "id": "ElxHm4w95qYu",
        "outputId": "feaaa603-e2a6-4a39-9ba3-edd1c6404a36"
      },
      "execution_count": null,
      "outputs": [
        {
          "output_type": "execute_result",
          "data": {
            "text/plain": [
              "array([[[[ 5,  6,  7,  8],\n",
              "         [ 6,  8, 10, 12]]],\n",
              "\n",
              "\n",
              "       [[[ 6,  7,  9, 11],\n",
              "         [ 5,  7,  9, 11]]],\n",
              "\n",
              "\n",
              "       [[[ 7, 10, 13, 16],\n",
              "         [ 8, 12, 16, 20]]],\n",
              "\n",
              "\n",
              "       [[[ 9, 14, 19, 24],\n",
              "         [10, 16, 22, 28]]]])"
            ]
          },
          "metadata": {},
          "execution_count": 46
        }
      ]
    },
    {
      "cell_type": "code",
      "source": [
        "k_24-3"
      ],
      "metadata": {
        "colab": {
          "base_uri": "https://localhost:8080/"
        },
        "id": "CkdqNVv454iB",
        "outputId": "85b7cc05-4d7d-46d7-b78b-376896bb9ac1"
      },
      "execution_count": null,
      "outputs": [
        {
          "output_type": "execute_result",
          "data": {
            "text/plain": [
              "array([17, 19, 21, 23])"
            ]
          },
          "metadata": {},
          "execution_count": 47
        }
      ]
    },
    {
      "cell_type": "code",
      "source": [
        "j_24*5"
      ],
      "metadata": {
        "colab": {
          "base_uri": "https://localhost:8080/"
        },
        "id": "H7lZ6qY963ri",
        "outputId": "4ac75231-4ef6-4538-ac27-933f8e132949"
      },
      "execution_count": null,
      "outputs": [
        {
          "output_type": "execute_result",
          "data": {
            "text/plain": [
              "array([ 10,  15, 100,  35,  55])"
            ]
          },
          "metadata": {},
          "execution_count": 48
        }
      ]
    },
    {
      "cell_type": "code",
      "source": [
        "k_24/2"
      ],
      "metadata": {
        "colab": {
          "base_uri": "https://localhost:8080/"
        },
        "id": "P7wQkteN7ZIR",
        "outputId": "3d18aca8-e7c5-42a5-dfd3-2b310290e3aa"
      },
      "execution_count": null,
      "outputs": [
        {
          "output_type": "execute_result",
          "data": {
            "text/plain": [
              "array([10., 11., 12., 13.])"
            ]
          },
          "metadata": {},
          "execution_count": 49
        }
      ]
    },
    {
      "cell_type": "code",
      "source": [
        "k_24**2"
      ],
      "metadata": {
        "colab": {
          "base_uri": "https://localhost:8080/"
        },
        "id": "RwbBL7JW8Isq",
        "outputId": "856a301c-1e1c-44d5-9bef-f48d1f8d232a"
      },
      "execution_count": null,
      "outputs": [
        {
          "output_type": "execute_result",
          "data": {
            "text/plain": [
              "array([400, 484, 576, 676])"
            ]
          },
          "metadata": {},
          "execution_count": 50
        }
      ]
    },
    {
      "cell_type": "code",
      "source": [
        "p_24 = np.array([1,2,3,4,5])\n",
        "print(p_24)"
      ],
      "metadata": {
        "colab": {
          "base_uri": "https://localhost:8080/"
        },
        "id": "Bi4nSJgm8XMe",
        "outputId": "0f53358f-45a1-4fa3-f57d-b2ef783607dd"
      },
      "execution_count": null,
      "outputs": [
        {
          "output_type": "stream",
          "name": "stdout",
          "text": [
            "[1 2 3 4 5]\n"
          ]
        }
      ]
    },
    {
      "cell_type": "code",
      "source": [
        "k_24+b_24"
      ],
      "metadata": {
        "colab": {
          "base_uri": "https://localhost:8080/"
        },
        "id": "xQnp2KkO8ewr",
        "outputId": "4947c041-3f09-4cbe-8222-97c2875422a3"
      },
      "execution_count": null,
      "outputs": [
        {
          "output_type": "execute_result",
          "data": {
            "text/plain": [
              "array([[[[21, 24, 27, 30],\n",
              "         [22, 26, 30, 34]]],\n",
              "\n",
              "\n",
              "       [[[22, 25, 29, 33],\n",
              "         [21, 25, 29, 33]]],\n",
              "\n",
              "\n",
              "       [[[23, 28, 33, 38],\n",
              "         [24, 30, 36, 42]]],\n",
              "\n",
              "\n",
              "       [[[25, 32, 39, 46],\n",
              "         [26, 34, 42, 50]]]])"
            ]
          },
          "metadata": {},
          "execution_count": 52
        }
      ]
    },
    {
      "cell_type": "code",
      "source": [
        "np.cos (p_24)"
      ],
      "metadata": {
        "colab": {
          "base_uri": "https://localhost:8080/"
        },
        "id": "S8_3bNTJ8lfE",
        "outputId": "13319f22-622e-436a-f274-2c0d14760564"
      },
      "execution_count": null,
      "outputs": [
        {
          "output_type": "execute_result",
          "data": {
            "text/plain": [
              "array([ 0.54030231, -0.41614684, -0.9899925 , -0.65364362,  0.28366219])"
            ]
          },
          "metadata": {},
          "execution_count": 53
        }
      ]
    },
    {
      "cell_type": "code",
      "source": [
        "np.sin(p_24)"
      ],
      "metadata": {
        "colab": {
          "base_uri": "https://localhost:8080/"
        },
        "id": "pn3oRFaf8utd",
        "outputId": "27bc55a1-3b2c-4e57-dec4-c16d9340d054"
      },
      "execution_count": null,
      "outputs": [
        {
          "output_type": "execute_result",
          "data": {
            "text/plain": [
              "array([ 0.84147098,  0.90929743,  0.14112001, -0.7568025 , -0.95892427])"
            ]
          },
          "metadata": {},
          "execution_count": 54
        }
      ]
    },
    {
      "cell_type": "code",
      "source": [
        "np.tan(p_24)"
      ],
      "metadata": {
        "colab": {
          "base_uri": "https://localhost:8080/"
        },
        "id": "tUUto-O_86Ys",
        "outputId": "f88856bb-de78-4823-dd63-b403b3baeb85"
      },
      "execution_count": null,
      "outputs": [
        {
          "output_type": "execute_result",
          "data": {
            "text/plain": [
              "array([ 1.55740772, -2.18503986, -0.14254654,  1.15782128, -3.38051501])"
            ]
          },
          "metadata": {},
          "execution_count": 55
        }
      ]
    },
    {
      "cell_type": "code",
      "source": [
        "np.sinh(p_24)"
      ],
      "metadata": {
        "colab": {
          "base_uri": "https://localhost:8080/"
        },
        "id": "sbsLzFa189qB",
        "outputId": "2f0c3cbe-24a9-461c-99d6-94b7c2d1b2da"
      },
      "execution_count": null,
      "outputs": [
        {
          "output_type": "execute_result",
          "data": {
            "text/plain": [
              "array([ 1.17520119,  3.62686041, 10.01787493, 27.2899172 , 74.20321058])"
            ]
          },
          "metadata": {},
          "execution_count": 56
        }
      ]
    },
    {
      "cell_type": "code",
      "source": [
        "np.cosh(p_24)"
      ],
      "metadata": {
        "colab": {
          "base_uri": "https://localhost:8080/"
        },
        "id": "C5ak__Ip9A4G",
        "outputId": "a5286aa1-38a3-40e4-9851-f40c306034ef"
      },
      "execution_count": null,
      "outputs": [
        {
          "output_type": "execute_result",
          "data": {
            "text/plain": [
              "array([ 1.54308063,  3.76219569, 10.067662  , 27.30823284, 74.20994852])"
            ]
          },
          "metadata": {},
          "execution_count": 57
        }
      ]
    },
    {
      "cell_type": "code",
      "source": [
        "np.tanh(p_24)"
      ],
      "metadata": {
        "colab": {
          "base_uri": "https://localhost:8080/"
        },
        "id": "8zd5hxaE9DKg",
        "outputId": "e5bd39cd-cd49-4841-939d-0ca059219a3d"
      },
      "execution_count": null,
      "outputs": [
        {
          "output_type": "execute_result",
          "data": {
            "text/plain": [
              "array([0.76159416, 0.96402758, 0.99505475, 0.9993293 , 0.9999092 ])"
            ]
          },
          "metadata": {},
          "execution_count": 58
        }
      ]
    },
    {
      "cell_type": "code",
      "source": [
        "np.sqrt(p_24)"
      ],
      "metadata": {
        "colab": {
          "base_uri": "https://localhost:8080/"
        },
        "id": "j1UZfjJh9J0H",
        "outputId": "1499801f-e751-4a23-8dfc-707093018605"
      },
      "execution_count": null,
      "outputs": [
        {
          "output_type": "execute_result",
          "data": {
            "text/plain": [
              "array([1.        , 1.41421356, 1.73205081, 2.        , 2.23606798])"
            ]
          },
          "metadata": {},
          "execution_count": 59
        }
      ]
    },
    {
      "cell_type": "code",
      "source": [
        "#2.20.6 Perkalian Matrik pada Numpy\n",
        "y_24 = np.array([[2,4,6,8],[1,3,5,7]])\n",
        "print(y_24)"
      ],
      "metadata": {
        "colab": {
          "base_uri": "https://localhost:8080/"
        },
        "id": "zeXr6sk-9G47",
        "outputId": "732e56ca-93fa-4c77-8b68-f5ebeb46a5ce"
      },
      "execution_count": null,
      "outputs": [
        {
          "output_type": "stream",
          "name": "stdout",
          "text": [
            "[[2 4 6 8]\n",
            " [1 3 5 7]]\n"
          ]
        }
      ]
    },
    {
      "cell_type": "code",
      "source": [
        "q_24 = np.array([[2,3,5,7],[7,8,9,10]])\n",
        "print(q_24)"
      ],
      "metadata": {
        "colab": {
          "base_uri": "https://localhost:8080/"
        },
        "id": "6vV2JBoo9Nvj",
        "outputId": "8628d55f-5eea-4b9b-92c1-9c33a8d2aeea"
      },
      "execution_count": null,
      "outputs": [
        {
          "output_type": "stream",
          "name": "stdout",
          "text": [
            "[[ 2  3  5  7]\n",
            " [ 7  8  9 10]]\n"
          ]
        }
      ]
    },
    {
      "cell_type": "code",
      "source": [
        "w_24 = y_24*q_24\n",
        "print(w_24)"
      ],
      "metadata": {
        "colab": {
          "base_uri": "https://localhost:8080/"
        },
        "id": "6PsTAtCu-XAx",
        "outputId": "a374f013-6efb-40e7-85a6-4adcd412dc90"
      },
      "execution_count": null,
      "outputs": [
        {
          "output_type": "stream",
          "name": "stdout",
          "text": [
            "[[ 4 12 30 56]\n",
            " [ 7 24 45 70]]\n"
          ]
        }
      ]
    },
    {
      "cell_type": "code",
      "source": [
        "r_24 = y_24+q_24\n",
        "print(r_24)"
      ],
      "metadata": {
        "colab": {
          "base_uri": "https://localhost:8080/"
        },
        "id": "JJ5UwLGH9znQ",
        "outputId": "3421f4bd-6f69-4c0f-ee6b-dd906488ccbb"
      },
      "execution_count": null,
      "outputs": [
        {
          "output_type": "stream",
          "name": "stdout",
          "text": [
            "[[ 4  7 11 15]\n",
            " [ 8 11 14 17]]\n"
          ]
        }
      ]
    },
    {
      "cell_type": "code",
      "source": [
        "t_24 = r_24**2\n",
        "print(t_24)"
      ],
      "metadata": {
        "colab": {
          "base_uri": "https://localhost:8080/"
        },
        "id": "CiVxnNrm96z6",
        "outputId": "d1b0f113-9866-409b-83da-869889d4bd21"
      },
      "execution_count": null,
      "outputs": [
        {
          "output_type": "stream",
          "name": "stdout",
          "text": [
            "[[ 16  49 121 225]\n",
            " [ 64 121 196 289]]\n"
          ]
        }
      ]
    },
    {
      "cell_type": "code",
      "source": [
        "#2.20.7 min, max dan sum pada Numpy\n",
        "s_24 = np.array([[12,14,16,18],\n",
        "                 [22,24,26,28],\n",
        "                 [32,34,36,38]])\n",
        "print(s_24)"
      ],
      "metadata": {
        "colab": {
          "base_uri": "https://localhost:8080/"
        },
        "id": "r_KUkk1UAPoK",
        "outputId": "3d1f1551-1b77-478a-c263-8c5fada7d27e"
      },
      "execution_count": null,
      "outputs": [
        {
          "output_type": "stream",
          "name": "stdout",
          "text": [
            "[[12 14 16 18]\n",
            " [22 24 26 28]\n",
            " [32 34 36 38]]\n"
          ]
        }
      ]
    },
    {
      "cell_type": "code",
      "source": [
        "z_24 = np.min(s_24)\n",
        "print(z_24)"
      ],
      "metadata": {
        "colab": {
          "base_uri": "https://localhost:8080/"
        },
        "id": "hjlpuNf2Bh7d",
        "outputId": "dccdd538-4b72-493d-e22c-fc44317aa305"
      },
      "execution_count": null,
      "outputs": [
        {
          "output_type": "stream",
          "name": "stdout",
          "text": [
            "12\n"
          ]
        }
      ]
    },
    {
      "cell_type": "code",
      "source": [
        "v_24 = np.min(s_24,axis=1)\n",
        "print(v_24)"
      ],
      "metadata": {
        "colab": {
          "base_uri": "https://localhost:8080/"
        },
        "id": "G1rv7eK2BtSf",
        "outputId": "de1fa52d-7ba3-427f-9435-4f9358909c64"
      },
      "execution_count": null,
      "outputs": [
        {
          "output_type": "stream",
          "name": "stdout",
          "text": [
            "[12 22 32]\n"
          ]
        }
      ]
    },
    {
      "cell_type": "code",
      "source": [
        "va_24 = np.min(s_24,axis=0)\n",
        "print(va_24)"
      ],
      "metadata": {
        "colab": {
          "base_uri": "https://localhost:8080/"
        },
        "id": "QoX4OQisCcvB",
        "outputId": "cae2115e-557e-40e6-e661-2236b131293b"
      },
      "execution_count": null,
      "outputs": [
        {
          "output_type": "stream",
          "name": "stdout",
          "text": [
            "[12 14 16 18]\n"
          ]
        }
      ]
    },
    {
      "cell_type": "code",
      "source": [
        "se_24 = np.max(s_24)\n",
        "print(se_24)"
      ],
      "metadata": {
        "colab": {
          "base_uri": "https://localhost:8080/"
        },
        "id": "bazrkAdWC3J2",
        "outputId": "3a1c3176-490c-4d77-bdbc-bf41b9644239"
      },
      "execution_count": null,
      "outputs": [
        {
          "output_type": "stream",
          "name": "stdout",
          "text": [
            "38\n"
          ]
        }
      ]
    },
    {
      "cell_type": "code",
      "source": [
        "ga_24 = np.max(s_24,axis=0)\n",
        "print(ga_24)"
      ],
      "metadata": {
        "colab": {
          "base_uri": "https://localhost:8080/"
        },
        "id": "-aDSJs3yDBLI",
        "outputId": "97620dfa-e5e0-40e5-c5ca-6529a8c97860"
      },
      "execution_count": null,
      "outputs": [
        {
          "output_type": "stream",
          "name": "stdout",
          "text": [
            "[32 34 36 38]\n"
          ]
        }
      ]
    },
    {
      "cell_type": "code",
      "source": [
        "ge_24 = np.max(s_24,axis=1)\n",
        "print(ge_24)"
      ],
      "metadata": {
        "colab": {
          "base_uri": "https://localhost:8080/"
        },
        "id": "eW7RA2jaDSxH",
        "outputId": "563c65a3-ce4f-4d99-be2c-e85d9b029f65"
      },
      "execution_count": null,
      "outputs": [
        {
          "output_type": "stream",
          "name": "stdout",
          "text": [
            "[18 28 38]\n"
          ]
        }
      ]
    },
    {
      "cell_type": "code",
      "source": [
        "ha_24 = np.sum(s_24)\n",
        "print(ha_24)"
      ],
      "metadata": {
        "colab": {
          "base_uri": "https://localhost:8080/"
        },
        "id": "M_VQ2kNTDdAy",
        "outputId": "a38779dd-6c59-43cf-815b-9359b8b8d663"
      },
      "execution_count": null,
      "outputs": [
        {
          "output_type": "stream",
          "name": "stdout",
          "text": [
            "300\n"
          ]
        }
      ]
    },
    {
      "cell_type": "code",
      "source": [
        "ha_24 = np.sum(s_24,axis=0)\n",
        "print(ha_24)"
      ],
      "metadata": {
        "colab": {
          "base_uri": "https://localhost:8080/"
        },
        "id": "OqKgNtqsDj7J",
        "outputId": "6c41da07-5c56-4e83-b851-61a52e15b388"
      },
      "execution_count": null,
      "outputs": [
        {
          "output_type": "stream",
          "name": "stdout",
          "text": [
            "[66 72 78 84]\n"
          ]
        }
      ]
    },
    {
      "cell_type": "code",
      "source": [
        "hi_24 = np.sum(s_24,axis=1)\n",
        "print(hi_24)"
      ],
      "metadata": {
        "colab": {
          "base_uri": "https://localhost:8080/"
        },
        "id": "cxJ-gVEhDwDh",
        "outputId": "828cba43-ccc3-48f0-8e22-ca99764e9c11"
      },
      "execution_count": null,
      "outputs": [
        {
          "output_type": "stream",
          "name": "stdout",
          "text": [
            "[ 60 100 140]\n"
          ]
        }
      ]
    },
    {
      "cell_type": "code",
      "source": [],
      "metadata": {
        "id": "5odS1gPxD5Ha"
      },
      "execution_count": null,
      "outputs": []
    }
  ]
}