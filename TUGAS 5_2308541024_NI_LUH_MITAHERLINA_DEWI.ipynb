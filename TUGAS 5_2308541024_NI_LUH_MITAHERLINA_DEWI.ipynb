{
  "nbformat": 4,
  "nbformat_minor": 0,
  "metadata": {
    "colab": {
      "provenance": []
    },
    "kernelspec": {
      "name": "python3",
      "display_name": "Python 3"
    },
    "language_info": {
      "name": "python"
    }
  },
  "cells": [
    {
      "cell_type": "code",
      "execution_count": 1,
      "metadata": {
        "colab": {
          "base_uri": "https://localhost:8080/"
        },
        "id": "6d4kvTX24-q8",
        "outputId": "5ccac8af-79d7-4c4d-a73c-49ae79b7b960"
      },
      "outputs": [
        {
          "output_type": "stream",
          "name": "stdout",
          "text": [
            "range(0, 8)\n"
          ]
        }
      ],
      "source": [
        "#2.15(Fungsi range)\n",
        "a_24 = range(8)\n",
        "print(a_24)\n"
      ]
    },
    {
      "cell_type": "code",
      "source": [
        "for isi_24 in a_24:\n",
        "    print(isi_24)"
      ],
      "metadata": {
        "colab": {
          "base_uri": "https://localhost:8080/"
        },
        "id": "8g2q5E-l9QSL",
        "outputId": "9cf6dfee-8b03-4ecc-a827-23e858059f87"
      },
      "execution_count": 2,
      "outputs": [
        {
          "output_type": "stream",
          "name": "stdout",
          "text": [
            "0\n",
            "1\n",
            "2\n",
            "3\n",
            "4\n",
            "5\n",
            "6\n",
            "7\n"
          ]
        }
      ]
    },
    {
      "cell_type": "code",
      "source": [
        "for isi_24 in range(4,12):\n",
        "    print(isi_24)"
      ],
      "metadata": {
        "colab": {
          "base_uri": "https://localhost:8080/"
        },
        "id": "i6l-zHw89lC-",
        "outputId": "65676775-5f18-4294-8ebd-35f7401ba695"
      },
      "execution_count": 3,
      "outputs": [
        {
          "output_type": "stream",
          "name": "stdout",
          "text": [
            "4\n",
            "5\n",
            "6\n",
            "7\n",
            "8\n",
            "9\n",
            "10\n",
            "11\n"
          ]
        }
      ]
    },
    {
      "cell_type": "code",
      "source": [
        "for isi_24 in range(1,10,4):\n",
        "    print(isi_24)"
      ],
      "metadata": {
        "colab": {
          "base_uri": "https://localhost:8080/"
        },
        "id": "EHiXC_ig9bvB",
        "outputId": "50f5ba4a-f43d-4826-bb18-f30ad5571aef"
      },
      "execution_count": 4,
      "outputs": [
        {
          "output_type": "stream",
          "name": "stdout",
          "text": [
            "1\n",
            "5\n",
            "9\n"
          ]
        }
      ]
    },
    {
      "cell_type": "code",
      "source": [
        "penggaris_24 = range(30)\n",
        "print(penggaris_24)"
      ],
      "metadata": {
        "colab": {
          "base_uri": "https://localhost:8080/"
        },
        "id": "-xHlANqa-gUD",
        "outputId": "c064d408-b6c9-4049-8485-375f09469350"
      },
      "execution_count": 5,
      "outputs": [
        {
          "output_type": "stream",
          "name": "stdout",
          "text": [
            "range(0, 30)\n"
          ]
        }
      ]
    },
    {
      "cell_type": "code",
      "source": [
        "for batas_24 in penggaris_24:\n",
        "    print(batas_24)"
      ],
      "metadata": {
        "colab": {
          "base_uri": "https://localhost:8080/"
        },
        "id": "ixNbDuXF-6lT",
        "outputId": "09d34c8b-7dcf-4241-ebfc-758ad5794d57"
      },
      "execution_count": 6,
      "outputs": [
        {
          "output_type": "stream",
          "name": "stdout",
          "text": [
            "0\n",
            "1\n",
            "2\n",
            "3\n",
            "4\n",
            "5\n",
            "6\n",
            "7\n",
            "8\n",
            "9\n",
            "10\n",
            "11\n",
            "12\n",
            "13\n",
            "14\n",
            "15\n",
            "16\n",
            "17\n",
            "18\n",
            "19\n",
            "20\n",
            "21\n",
            "22\n",
            "23\n",
            "24\n",
            "25\n",
            "26\n",
            "27\n",
            "28\n",
            "29\n"
          ]
        }
      ]
    },
    {
      "cell_type": "code",
      "source": [
        "for batas_24 in range(0,15):\n",
        "  print(batas_24)"
      ],
      "metadata": {
        "colab": {
          "base_uri": "https://localhost:8080/"
        },
        "id": "WAcMtMpv_Tuj",
        "outputId": "8aafb677-7c2f-4c0c-dfde-027d36aeeec4"
      },
      "execution_count": 7,
      "outputs": [
        {
          "output_type": "stream",
          "name": "stdout",
          "text": [
            "0\n",
            "1\n",
            "2\n",
            "3\n",
            "4\n",
            "5\n",
            "6\n",
            "7\n",
            "8\n",
            "9\n",
            "10\n",
            "11\n",
            "12\n",
            "13\n",
            "14\n"
          ]
        }
      ]
    },
    {
      "cell_type": "code",
      "source": [
        "for batas_24 in range(1,30,5):\n",
        "    print(batas_24)"
      ],
      "metadata": {
        "colab": {
          "base_uri": "https://localhost:8080/"
        },
        "id": "ZapQdltK_mN3",
        "outputId": "27eae785-e6d2-45cb-fa1f-eab1fc5d0b09"
      },
      "execution_count": 8,
      "outputs": [
        {
          "output_type": "stream",
          "name": "stdout",
          "text": [
            "1\n",
            "6\n",
            "11\n",
            "16\n",
            "21\n",
            "26\n"
          ]
        }
      ]
    },
    {
      "cell_type": "code",
      "source": [
        "timbangan_24 = range(100)\n",
        "print(timbangan_24)"
      ],
      "metadata": {
        "colab": {
          "base_uri": "https://localhost:8080/"
        },
        "id": "ikXU_YuuA8MJ",
        "outputId": "4baaef91-df98-469c-c481-980392b0c45e"
      },
      "execution_count": 9,
      "outputs": [
        {
          "output_type": "stream",
          "name": "stdout",
          "text": [
            "range(0, 100)\n"
          ]
        }
      ]
    },
    {
      "cell_type": "code",
      "source": [
        "#tidak bisa menjabarkan berat_badan_24 in timbangan_24 karena nilai nya 100"
      ],
      "metadata": {
        "id": "WjPK5PA-CY9H"
      },
      "execution_count": 10,
      "outputs": []
    },
    {
      "cell_type": "code",
      "source": [
        "for berat_badan_24 in range(55,80):\n",
        "    print(berat_badan_24)\n"
      ],
      "metadata": {
        "colab": {
          "base_uri": "https://localhost:8080/"
        },
        "id": "dfROEFWkBGCS",
        "outputId": "08fc9154-4891-491f-8660-a984d92d049c"
      },
      "execution_count": 11,
      "outputs": [
        {
          "output_type": "stream",
          "name": "stdout",
          "text": [
            "55\n",
            "56\n",
            "57\n",
            "58\n",
            "59\n",
            "60\n",
            "61\n",
            "62\n",
            "63\n",
            "64\n",
            "65\n",
            "66\n",
            "67\n",
            "68\n",
            "69\n",
            "70\n",
            "71\n",
            "72\n",
            "73\n",
            "74\n",
            "75\n",
            "76\n",
            "77\n",
            "78\n",
            "79\n"
          ]
        }
      ]
    },
    {
      "cell_type": "code",
      "source": [
        "for berat_badan_24 in range(20,50,10):\n",
        "    print(berat_badan_24)"
      ],
      "metadata": {
        "colab": {
          "base_uri": "https://localhost:8080/"
        },
        "id": "XFe6JaWmBgwV",
        "outputId": "c3fc23cb-6edd-44d4-9b0d-b0fc9d684fab"
      },
      "execution_count": 12,
      "outputs": [
        {
          "output_type": "stream",
          "name": "stdout",
          "text": [
            "20\n",
            "30\n",
            "40\n"
          ]
        }
      ]
    },
    {
      "cell_type": "code",
      "source": [
        "pita_ukur_24 = range(100)\n",
        "print(pita_ukur_24)\n"
      ],
      "metadata": {
        "colab": {
          "base_uri": "https://localhost:8080/"
        },
        "id": "tw_4rIoKBwcm",
        "outputId": "fb2aa2e8-073a-469e-e41b-5edc97152c5b"
      },
      "execution_count": 13,
      "outputs": [
        {
          "output_type": "stream",
          "name": "stdout",
          "text": [
            "range(0, 100)\n"
          ]
        }
      ]
    },
    {
      "cell_type": "code",
      "source": [
        "#tidak bisa menjabarkan jarak_24 in pita_ukur_24 karena nilai nya 100"
      ],
      "metadata": {
        "id": "KcWctgj5C9Ij"
      },
      "execution_count": 14,
      "outputs": []
    },
    {
      "cell_type": "code",
      "source": [
        "for jarak_24 in range(50,75):\n",
        "    print(jarak_24)"
      ],
      "metadata": {
        "colab": {
          "base_uri": "https://localhost:8080/"
        },
        "id": "jBoAM3eeDPW0",
        "outputId": "1293037f-2943-4c53-e691-555dcecda62f"
      },
      "execution_count": 15,
      "outputs": [
        {
          "output_type": "stream",
          "name": "stdout",
          "text": [
            "50\n",
            "51\n",
            "52\n",
            "53\n",
            "54\n",
            "55\n",
            "56\n",
            "57\n",
            "58\n",
            "59\n",
            "60\n",
            "61\n",
            "62\n",
            "63\n",
            "64\n",
            "65\n",
            "66\n",
            "67\n",
            "68\n",
            "69\n",
            "70\n",
            "71\n",
            "72\n",
            "73\n",
            "74\n"
          ]
        }
      ]
    },
    {
      "cell_type": "code",
      "source": [
        "for jarak_24 in range(30,100,15):\n",
        "    print(jarak_24)"
      ],
      "metadata": {
        "colab": {
          "base_uri": "https://localhost:8080/"
        },
        "id": "V2XP3luoDpTY",
        "outputId": "d0ab678d-3779-4f6c-84aa-5527bd8b6e14"
      },
      "execution_count": 16,
      "outputs": [
        {
          "output_type": "stream",
          "name": "stdout",
          "text": [
            "30\n",
            "45\n",
            "60\n",
            "75\n",
            "90\n"
          ]
        }
      ]
    },
    {
      "cell_type": "code",
      "source": [
        "termometer_medis_24 = range(42)\n",
        "print(termometer_medis_24)"
      ],
      "metadata": {
        "colab": {
          "base_uri": "https://localhost:8080/"
        },
        "id": "aQkdZKe9D3Al",
        "outputId": "42c2756a-7eb1-42f0-8e42-17555bc3ebc0"
      },
      "execution_count": 17,
      "outputs": [
        {
          "output_type": "stream",
          "name": "stdout",
          "text": [
            "range(0, 42)\n"
          ]
        }
      ]
    },
    {
      "cell_type": "code",
      "source": [
        "for rentang_suhu_24 in termometer_medis_24:\n",
        "    print(rentang_suhu_24)"
      ],
      "metadata": {
        "colab": {
          "base_uri": "https://localhost:8080/"
        },
        "id": "3tnxsQ9nEbeJ",
        "outputId": "74d14e67-4f73-4938-df21-4dd95297003b"
      },
      "execution_count": 18,
      "outputs": [
        {
          "output_type": "stream",
          "name": "stdout",
          "text": [
            "0\n",
            "1\n",
            "2\n",
            "3\n",
            "4\n",
            "5\n",
            "6\n",
            "7\n",
            "8\n",
            "9\n",
            "10\n",
            "11\n",
            "12\n",
            "13\n",
            "14\n",
            "15\n",
            "16\n",
            "17\n",
            "18\n",
            "19\n",
            "20\n",
            "21\n",
            "22\n",
            "23\n",
            "24\n",
            "25\n",
            "26\n",
            "27\n",
            "28\n",
            "29\n",
            "30\n",
            "31\n",
            "32\n",
            "33\n",
            "34\n",
            "35\n",
            "36\n",
            "37\n",
            "38\n",
            "39\n",
            "40\n",
            "41\n"
          ]
        }
      ]
    },
    {
      "cell_type": "code",
      "source": [
        "for rentang_suhu_24 in range(36,42):\n",
        "    print(rentang_suhu_24)"
      ],
      "metadata": {
        "colab": {
          "base_uri": "https://localhost:8080/"
        },
        "id": "hdAiW_fEEjYL",
        "outputId": "a9416928-1174-454a-beb9-7cc58b441ae5"
      },
      "execution_count": 19,
      "outputs": [
        {
          "output_type": "stream",
          "name": "stdout",
          "text": [
            "36\n",
            "37\n",
            "38\n",
            "39\n",
            "40\n",
            "41\n"
          ]
        }
      ]
    },
    {
      "cell_type": "code",
      "source": [
        "for rentang_suhu_24 in range(36,42,2):\n",
        "    print(rentang_suhu_24)"
      ],
      "metadata": {
        "colab": {
          "base_uri": "https://localhost:8080/"
        },
        "id": "kT13FBZSHxer",
        "outputId": "d1f9ac0f-9ee1-41a9-dcd8-7411e00bc4f4"
      },
      "execution_count": 20,
      "outputs": [
        {
          "output_type": "stream",
          "name": "stdout",
          "text": [
            "36\n",
            "38\n",
            "40\n"
          ]
        }
      ]
    },
    {
      "cell_type": "code",
      "source": [
        "angka_24 = [2,2,2,3,4,5,5,6,10]\n",
        "terbesar = angka_24[0]\n",
        "for i in range(len(angka_24)):\n",
        "    if angka_24[i] > terbesar:\n",
        "        terbesar = angka_24[i]\n",
        "print(terbesar)"
      ],
      "metadata": {
        "colab": {
          "base_uri": "https://localhost:8080/"
        },
        "id": "rThnYx2gH8vg",
        "outputId": "364aa0c4-5094-4a9b-b781-6eb3101b02bd"
      },
      "execution_count": 21,
      "outputs": [
        {
          "output_type": "stream",
          "name": "stdout",
          "text": [
            "10\n"
          ]
        }
      ]
    },
    {
      "cell_type": "code",
      "source": [
        "x_24 = [1,2,3,3,4,5,8,6,7,8]\n",
        "x_24_unik = []\n",
        "for isi in x_24:\n",
        "    if isi not in x_24_unik:\n",
        "        x_24_unik.append(isi)\n",
        "print(x_24_unik)\n",
        "\n"
      ],
      "metadata": {
        "colab": {
          "base_uri": "https://localhost:8080/"
        },
        "id": "VbjgLd-8JlV4",
        "outputId": "1424fde0-f951-45c5-e180-2ef53ff6f1c9"
      },
      "execution_count": 22,
      "outputs": [
        {
          "output_type": "stream",
          "name": "stdout",
          "text": [
            "[1, 2, 3, 4, 5, 8, 6, 7]\n"
          ]
        }
      ]
    },
    {
      "cell_type": "code",
      "source": [
        "#2.16(List 2 Dimensi)\n",
        "matriks_24 = [\n",
        "    [1,3,5,7,9],\n",
        "    [2,4,6,8,10],\n",
        "    [3,6,9,12,15],\n",
        "    [4,8,12,16,20]\n",
        "]\n",
        "print(matriks_24)"
      ],
      "metadata": {
        "colab": {
          "base_uri": "https://localhost:8080/"
        },
        "id": "lSRlfHGPKf4b",
        "outputId": "a552ca3b-60fe-4fdf-a6c4-f68893d62ceb"
      },
      "execution_count": 23,
      "outputs": [
        {
          "output_type": "stream",
          "name": "stdout",
          "text": [
            "[[1, 3, 5, 7, 9], [2, 4, 6, 8, 10], [3, 6, 9, 12, 15], [4, 8, 12, 16, 20]]\n"
          ]
        }
      ]
    },
    {
      "cell_type": "code",
      "source": [
        "matriks_24[3]"
      ],
      "metadata": {
        "colab": {
          "base_uri": "https://localhost:8080/"
        },
        "id": "fjiKKgYcLStY",
        "outputId": "3d24ddaa-ae25-46ba-85ee-3e3af8100ac8"
      },
      "execution_count": 24,
      "outputs": [
        {
          "output_type": "execute_result",
          "data": {
            "text/plain": [
              "[4, 8, 12, 16, 20]"
            ]
          },
          "metadata": {},
          "execution_count": 24
        }
      ]
    },
    {
      "cell_type": "code",
      "source": [
        "matriks_24[2][0]"
      ],
      "metadata": {
        "colab": {
          "base_uri": "https://localhost:8080/"
        },
        "id": "3JZzv9dmLZRH",
        "outputId": "31ad4a02-b9ba-4a72-b530-95d7aa53ccd1"
      },
      "execution_count": 25,
      "outputs": [
        {
          "output_type": "execute_result",
          "data": {
            "text/plain": [
              "3"
            ]
          },
          "metadata": {},
          "execution_count": 25
        }
      ]
    },
    {
      "cell_type": "code",
      "source": [
        "matriks_24[2][3]=80\n",
        "print(matriks_24[2][3])"
      ],
      "metadata": {
        "colab": {
          "base_uri": "https://localhost:8080/"
        },
        "id": "71hQuQ4VLe03",
        "outputId": "2d12de1d-e0ea-4fb8-9e39-04dc1ba712c2"
      },
      "execution_count": 26,
      "outputs": [
        {
          "output_type": "stream",
          "name": "stdout",
          "text": [
            "80\n"
          ]
        }
      ]
    },
    {
      "cell_type": "code",
      "source": [
        "matriks_24"
      ],
      "metadata": {
        "colab": {
          "base_uri": "https://localhost:8080/"
        },
        "id": "Qr8CXaUPLvSL",
        "outputId": "f75e1105-a9ab-4a17-9bdc-ea7820f3f936"
      },
      "execution_count": 27,
      "outputs": [
        {
          "output_type": "execute_result",
          "data": {
            "text/plain": [
              "[[1, 3, 5, 7, 9], [2, 4, 6, 8, 10], [3, 6, 9, 80, 15], [4, 8, 12, 16, 20]]"
            ]
          },
          "metadata": {},
          "execution_count": 27
        }
      ]
    },
    {
      "cell_type": "code",
      "source": [
        "for baris in matriks_24:\n",
        "    print(baris)\n",
        "    for kolom in baris:\n",
        "        print(kolom)"
      ],
      "metadata": {
        "colab": {
          "base_uri": "https://localhost:8080/"
        },
        "id": "bnFisDZPLzDj",
        "outputId": "00fba853-810f-48ce-df56-651afbfad5d3"
      },
      "execution_count": 28,
      "outputs": [
        {
          "output_type": "stream",
          "name": "stdout",
          "text": [
            "[1, 3, 5, 7, 9]\n",
            "1\n",
            "3\n",
            "5\n",
            "7\n",
            "9\n",
            "[2, 4, 6, 8, 10]\n",
            "2\n",
            "4\n",
            "6\n",
            "8\n",
            "10\n",
            "[3, 6, 9, 80, 15]\n",
            "3\n",
            "6\n",
            "9\n",
            "80\n",
            "15\n",
            "[4, 8, 12, 16, 20]\n",
            "4\n",
            "8\n",
            "12\n",
            "16\n",
            "20\n"
          ]
        }
      ]
    },
    {
      "cell_type": "code",
      "source": [
        "matriks_N_24 = [\n",
        "    [2,3,5,7],\n",
        "    [0,1,2,3],\n",
        "    [-2,-1,0,1],\n",
        "    [1,2,3,4]\n",
        "]\n",
        "print(matriks_N_24)"
      ],
      "metadata": {
        "id": "zymSBcX1MFE0",
        "colab": {
          "base_uri": "https://localhost:8080/"
        },
        "outputId": "8a09e821-46ef-4ab1-e968-36c682207990"
      },
      "execution_count": 29,
      "outputs": [
        {
          "output_type": "stream",
          "name": "stdout",
          "text": [
            "[[2, 3, 5, 7], [0, 1, 2, 3], [-2, -1, 0, 1], [1, 2, 3, 4]]\n"
          ]
        }
      ]
    },
    {
      "cell_type": "code",
      "source": [
        "matriks_N_24[2]"
      ],
      "metadata": {
        "colab": {
          "base_uri": "https://localhost:8080/"
        },
        "id": "UeXpv6buPt5U",
        "outputId": "fbc22474-809f-488e-daa5-0931666eff5b"
      },
      "execution_count": 30,
      "outputs": [
        {
          "output_type": "execute_result",
          "data": {
            "text/plain": [
              "[-2, -1, 0, 1]"
            ]
          },
          "metadata": {},
          "execution_count": 30
        }
      ]
    },
    {
      "cell_type": "code",
      "source": [
        "matriks_N_24[0]"
      ],
      "metadata": {
        "colab": {
          "base_uri": "https://localhost:8080/"
        },
        "id": "U8eULAqNQC8V",
        "outputId": "c1e60eac-0ba2-4bce-f5ef-4c746fc6f23d"
      },
      "execution_count": 31,
      "outputs": [
        {
          "output_type": "execute_result",
          "data": {
            "text/plain": [
              "[2, 3, 5, 7]"
            ]
          },
          "metadata": {},
          "execution_count": 31
        }
      ]
    },
    {
      "cell_type": "code",
      "source": [
        "matriks_N_24[1][0]"
      ],
      "metadata": {
        "colab": {
          "base_uri": "https://localhost:8080/"
        },
        "id": "7GwO0e2lQI6q",
        "outputId": "7330985f-f1f9-454e-f37a-0c6bd31780f5"
      },
      "execution_count": 32,
      "outputs": [
        {
          "output_type": "execute_result",
          "data": {
            "text/plain": [
              "0"
            ]
          },
          "metadata": {},
          "execution_count": 32
        }
      ]
    },
    {
      "cell_type": "code",
      "source": [
        "matriks_N_24[3][2]"
      ],
      "metadata": {
        "colab": {
          "base_uri": "https://localhost:8080/"
        },
        "id": "B1TJAZTtQOCl",
        "outputId": "fd21f887-9b85-41ae-c55c-519993d0bf0d"
      },
      "execution_count": 33,
      "outputs": [
        {
          "output_type": "execute_result",
          "data": {
            "text/plain": [
              "3"
            ]
          },
          "metadata": {},
          "execution_count": 33
        }
      ]
    },
    {
      "cell_type": "code",
      "source": [
        "matriks_N_24[1][0]=8\n",
        "print(matriks_N_24[1][0])"
      ],
      "metadata": {
        "colab": {
          "base_uri": "https://localhost:8080/"
        },
        "id": "B80n1ZtKQSub",
        "outputId": "37dcf6d7-4607-4651-bfd7-71d746a9d193"
      },
      "execution_count": 34,
      "outputs": [
        {
          "output_type": "stream",
          "name": "stdout",
          "text": [
            "8\n"
          ]
        }
      ]
    },
    {
      "cell_type": "code",
      "source": [
        "matriks_N_24"
      ],
      "metadata": {
        "colab": {
          "base_uri": "https://localhost:8080/"
        },
        "id": "1uQX-mH3QkKz",
        "outputId": "7044c6c4-f69d-43c8-8a5b-74137e0ff1d6"
      },
      "execution_count": 35,
      "outputs": [
        {
          "output_type": "execute_result",
          "data": {
            "text/plain": [
              "[[2, 3, 5, 7], [8, 1, 2, 3], [-2, -1, 0, 1], [1, 2, 3, 4]]"
            ]
          },
          "metadata": {},
          "execution_count": 35
        }
      ]
    },
    {
      "cell_type": "code",
      "source": [
        "for baris in matriks_N_24:\n",
        "    print(baris)\n",
        "    for kolom in baris:\n",
        "        print(kolom)"
      ],
      "metadata": {
        "colab": {
          "base_uri": "https://localhost:8080/"
        },
        "id": "Us8XBjrXQ9vA",
        "outputId": "36cf081d-8138-4d90-f45a-1f067c1b5938"
      },
      "execution_count": 36,
      "outputs": [
        {
          "output_type": "stream",
          "name": "stdout",
          "text": [
            "[2, 3, 5, 7]\n",
            "2\n",
            "3\n",
            "5\n",
            "7\n",
            "[8, 1, 2, 3]\n",
            "8\n",
            "1\n",
            "2\n",
            "3\n",
            "[-2, -1, 0, 1]\n",
            "-2\n",
            "-1\n",
            "0\n",
            "1\n",
            "[1, 2, 3, 4]\n",
            "1\n",
            "2\n",
            "3\n",
            "4\n"
          ]
        }
      ]
    },
    {
      "cell_type": "code",
      "source": [
        "matriks_K_24 = [\n",
        "    [11,12,13],\n",
        "    [21,22,23],\n",
        "    [31,32,33]\n",
        "]\n",
        "print(matriks_K_24)"
      ],
      "metadata": {
        "colab": {
          "base_uri": "https://localhost:8080/"
        },
        "id": "SuWPpdhZQl3a",
        "outputId": "a6127f9d-c516-4ea6-c025-220705afbf21"
      },
      "execution_count": 37,
      "outputs": [
        {
          "output_type": "stream",
          "name": "stdout",
          "text": [
            "[[11, 12, 13], [21, 22, 23], [31, 32, 33]]\n"
          ]
        }
      ]
    },
    {
      "cell_type": "code",
      "source": [
        "matriks_K_24[1]"
      ],
      "metadata": {
        "colab": {
          "base_uri": "https://localhost:8080/"
        },
        "id": "jLJecJGGRgp-",
        "outputId": "483a6610-2a6a-4fc4-9530-97c8f2176508"
      },
      "execution_count": 38,
      "outputs": [
        {
          "output_type": "execute_result",
          "data": {
            "text/plain": [
              "[21, 22, 23]"
            ]
          },
          "metadata": {},
          "execution_count": 38
        }
      ]
    },
    {
      "cell_type": "code",
      "source": [
        "matriks_K_24[2][1]"
      ],
      "metadata": {
        "colab": {
          "base_uri": "https://localhost:8080/"
        },
        "id": "HnWRtIMyRjoZ",
        "outputId": "a6d43693-8702-434f-91b3-123d95939f32"
      },
      "execution_count": 39,
      "outputs": [
        {
          "output_type": "execute_result",
          "data": {
            "text/plain": [
              "32"
            ]
          },
          "metadata": {},
          "execution_count": 39
        }
      ]
    },
    {
      "cell_type": "code",
      "source": [
        "matriks_K_24[0][2]=2*2\n",
        "print(matriks_K_24[0][2])"
      ],
      "metadata": {
        "colab": {
          "base_uri": "https://localhost:8080/"
        },
        "id": "K9M_hD6JRqDS",
        "outputId": "8f47d606-eaa6-4df7-c711-483d9b10663f"
      },
      "execution_count": 40,
      "outputs": [
        {
          "output_type": "stream",
          "name": "stdout",
          "text": [
            "4\n"
          ]
        }
      ]
    },
    {
      "cell_type": "code",
      "source": [
        "matriks_K_24"
      ],
      "metadata": {
        "colab": {
          "base_uri": "https://localhost:8080/"
        },
        "id": "z5n62QAlSFU-",
        "outputId": "413c1e45-0ea2-465f-a4e8-443453bdace7"
      },
      "execution_count": 41,
      "outputs": [
        {
          "output_type": "execute_result",
          "data": {
            "text/plain": [
              "[[11, 12, 4], [21, 22, 23], [31, 32, 33]]"
            ]
          },
          "metadata": {},
          "execution_count": 41
        }
      ]
    },
    {
      "cell_type": "code",
      "source": [
        "for baris in matriks_K_24:\n",
        "    print(baris)\n",
        "    for kolom in baris:\n",
        "        print(kolom)"
      ],
      "metadata": {
        "colab": {
          "base_uri": "https://localhost:8080/"
        },
        "id": "dNfBFMgISLpp",
        "outputId": "3e7589e0-546a-4e67-b314-6a56ce95464c"
      },
      "execution_count": 42,
      "outputs": [
        {
          "output_type": "stream",
          "name": "stdout",
          "text": [
            "[11, 12, 4]\n",
            "11\n",
            "12\n",
            "4\n",
            "[21, 22, 23]\n",
            "21\n",
            "22\n",
            "23\n",
            "[31, 32, 33]\n",
            "31\n",
            "32\n",
            "33\n"
          ]
        }
      ]
    },
    {
      "cell_type": "code",
      "source": [
        "#2.17(Tuples)\n",
        "y_24 = (2,3,1,3,4,5,5)\n",
        "print(y_24[2])"
      ],
      "metadata": {
        "colab": {
          "base_uri": "https://localhost:8080/"
        },
        "id": "3-UCIw4dSWfK",
        "outputId": "ba3469f2-df23-4fd1-f23b-2401051760db"
      },
      "execution_count": 43,
      "outputs": [
        {
          "output_type": "stream",
          "name": "stdout",
          "text": [
            "1\n"
          ]
        }
      ]
    },
    {
      "cell_type": "code",
      "source": [
        "print(y_24[1:2])"
      ],
      "metadata": {
        "colab": {
          "base_uri": "https://localhost:8080/"
        },
        "id": "QVIA4lY8StQy",
        "outputId": "0522db3e-a849-4d8d-e609-5eb7e1f3d639"
      },
      "execution_count": 44,
      "outputs": [
        {
          "output_type": "stream",
          "name": "stdout",
          "text": [
            "(3,)\n"
          ]
        }
      ]
    },
    {
      "cell_type": "code",
      "source": [
        "print(y_24[2:5])"
      ],
      "metadata": {
        "colab": {
          "base_uri": "https://localhost:8080/"
        },
        "id": "6CiZWqOVSv6s",
        "outputId": "2f575f05-32a8-4e3c-8e91-82eb1f25be72"
      },
      "execution_count": 45,
      "outputs": [
        {
          "output_type": "stream",
          "name": "stdout",
          "text": [
            "(1, 3, 4)\n"
          ]
        }
      ]
    },
    {
      "cell_type": "code",
      "source": [
        "for isi_dalam_24 in y_24[2:6]:\n",
        "    print(isi_dalam_24)"
      ],
      "metadata": {
        "colab": {
          "base_uri": "https://localhost:8080/"
        },
        "id": "vy1tcEdgTGGg",
        "outputId": "56029595-1ba0-4763-8ec2-fcc6d885e5c2"
      },
      "execution_count": 46,
      "outputs": [
        {
          "output_type": "stream",
          "name": "stdout",
          "text": [
            "1\n",
            "3\n",
            "4\n",
            "5\n"
          ]
        }
      ]
    },
    {
      "cell_type": "code",
      "source": [
        "#Tuples tidak dapat dirubah isinya\n",
        "y_24[2] = 12\n",
        "y_24.append(12)\n",
        "y_24.remove(3)"
      ],
      "metadata": {
        "id": "jKCyGAMXT4vE",
        "colab": {
          "base_uri": "https://localhost:8080/",
          "height": 203
        },
        "outputId": "031b0456-f87a-409e-b8fa-195840e35c8b"
      },
      "execution_count": 47,
      "outputs": [
        {
          "output_type": "error",
          "ename": "TypeError",
          "evalue": "'tuple' object does not support item assignment",
          "traceback": [
            "\u001b[0;31m---------------------------------------------------------------------------\u001b[0m",
            "\u001b[0;31mTypeError\u001b[0m                                 Traceback (most recent call last)",
            "\u001b[0;32m<ipython-input-47-71d00994c500>\u001b[0m in \u001b[0;36m<cell line: 2>\u001b[0;34m()\u001b[0m\n\u001b[1;32m      1\u001b[0m \u001b[0;31m#Tuples tidak dapat dirubah isinya\u001b[0m\u001b[0;34m\u001b[0m\u001b[0;34m\u001b[0m\u001b[0m\n\u001b[0;32m----> 2\u001b[0;31m \u001b[0my_24\u001b[0m\u001b[0;34m[\u001b[0m\u001b[0;36m2\u001b[0m\u001b[0;34m]\u001b[0m \u001b[0;34m=\u001b[0m \u001b[0;36m12\u001b[0m\u001b[0;34m\u001b[0m\u001b[0;34m\u001b[0m\u001b[0m\n\u001b[0m\u001b[1;32m      3\u001b[0m \u001b[0my_24\u001b[0m\u001b[0;34m.\u001b[0m\u001b[0mappend\u001b[0m\u001b[0;34m(\u001b[0m\u001b[0;36m12\u001b[0m\u001b[0;34m)\u001b[0m\u001b[0;34m\u001b[0m\u001b[0;34m\u001b[0m\u001b[0m\n\u001b[1;32m      4\u001b[0m \u001b[0my_24\u001b[0m\u001b[0;34m.\u001b[0m\u001b[0mremove\u001b[0m\u001b[0;34m(\u001b[0m\u001b[0;36m3\u001b[0m\u001b[0;34m)\u001b[0m\u001b[0;34m\u001b[0m\u001b[0;34m\u001b[0m\u001b[0m\n",
            "\u001b[0;31mTypeError\u001b[0m: 'tuple' object does not support item assignment"
          ]
        }
      ]
    },
    {
      "cell_type": "code",
      "source": [
        "y_24.count(2)"
      ],
      "metadata": {
        "colab": {
          "base_uri": "https://localhost:8080/"
        },
        "id": "tnYjEXLzaciH",
        "outputId": "13ab193b-69d9-4734-91f4-be99b62fc4e8"
      },
      "execution_count": 48,
      "outputs": [
        {
          "output_type": "execute_result",
          "data": {
            "text/plain": [
              "1"
            ]
          },
          "metadata": {},
          "execution_count": 48
        }
      ]
    },
    {
      "cell_type": "code",
      "source": [
        "y_24.index(3)"
      ],
      "metadata": {
        "colab": {
          "base_uri": "https://localhost:8080/"
        },
        "id": "xGW_EHhQahI5",
        "outputId": "cdfff7ae-58d5-43e9-9602-7cfe7aa7b554"
      },
      "execution_count": 49,
      "outputs": [
        {
          "output_type": "execute_result",
          "data": {
            "text/plain": [
              "1"
            ]
          },
          "metadata": {},
          "execution_count": 49
        }
      ]
    },
    {
      "cell_type": "code",
      "source": [
        "bilangan_asli_24 = (1,2,3,4,4,3,5,5,5,6,7)\n",
        "print(bilangan_asli_24)"
      ],
      "metadata": {
        "colab": {
          "base_uri": "https://localhost:8080/"
        },
        "id": "Lm2riFQuarhX",
        "outputId": "10274296-83eb-40ea-a7de-ab2f0adeb52f"
      },
      "execution_count": 51,
      "outputs": [
        {
          "output_type": "stream",
          "name": "stdout",
          "text": [
            "(1, 2, 3, 4, 4, 3, 5, 5, 5, 6, 7)\n"
          ]
        }
      ]
    },
    {
      "cell_type": "code",
      "source": [
        "print(bilangan_asli_24[4])"
      ],
      "metadata": {
        "colab": {
          "base_uri": "https://localhost:8080/"
        },
        "id": "DDuohpi-bNo6",
        "outputId": "29c54025-9bb6-4f19-ce13-020f5fde6841"
      },
      "execution_count": 52,
      "outputs": [
        {
          "output_type": "stream",
          "name": "stdout",
          "text": [
            "4\n"
          ]
        }
      ]
    },
    {
      "cell_type": "code",
      "source": [
        "print(bilangan_asli_24[6])"
      ],
      "metadata": {
        "colab": {
          "base_uri": "https://localhost:8080/"
        },
        "id": "NiQrF7YEbT12",
        "outputId": "37cbed55-48ef-4935-8cd1-b6a0469face5"
      },
      "execution_count": 53,
      "outputs": [
        {
          "output_type": "stream",
          "name": "stdout",
          "text": [
            "5\n"
          ]
        }
      ]
    },
    {
      "cell_type": "code",
      "source": [
        "print(bilangan_asli_24[2:6])"
      ],
      "metadata": {
        "colab": {
          "base_uri": "https://localhost:8080/"
        },
        "id": "cH3pBvDxba1L",
        "outputId": "594a674d-d742-4e16-9709-067112fe2c31"
      },
      "execution_count": 54,
      "outputs": [
        {
          "output_type": "stream",
          "name": "stdout",
          "text": [
            "(3, 4, 4, 3)\n"
          ]
        }
      ]
    },
    {
      "cell_type": "code",
      "source": [
        "for dalam in bilangan_asli_24[2:6]:\n",
        "    print(dalam)"
      ],
      "metadata": {
        "colab": {
          "base_uri": "https://localhost:8080/"
        },
        "id": "ZP5IBs3ibqen",
        "outputId": "20104142-1b5d-4092-9e10-4d79901cba41"
      },
      "execution_count": 55,
      "outputs": [
        {
          "output_type": "stream",
          "name": "stdout",
          "text": [
            "3\n",
            "4\n",
            "4\n",
            "3\n"
          ]
        }
      ]
    },
    {
      "cell_type": "code",
      "source": [
        "bilangan_asli_24.count(5)"
      ],
      "metadata": {
        "colab": {
          "base_uri": "https://localhost:8080/"
        },
        "id": "galyczxIb7J2",
        "outputId": "69bfb82e-ec2a-41c3-c1f8-596072c3455a"
      },
      "execution_count": 56,
      "outputs": [
        {
          "output_type": "execute_result",
          "data": {
            "text/plain": [
              "3"
            ]
          },
          "metadata": {},
          "execution_count": 56
        }
      ]
    },
    {
      "cell_type": "code",
      "source": [
        "bilangan_asli_24.index(4)"
      ],
      "metadata": {
        "colab": {
          "base_uri": "https://localhost:8080/"
        },
        "id": "SsXro1pecHSA",
        "outputId": "e83881b9-ef93-4301-dad9-e6b0cd16a3e7"
      },
      "execution_count": 57,
      "outputs": [
        {
          "output_type": "execute_result",
          "data": {
            "text/plain": [
              "3"
            ]
          },
          "metadata": {},
          "execution_count": 57
        }
      ]
    },
    {
      "cell_type": "code",
      "source": [
        "bilangan_prima_24 = (2,3,5,7,11)\n",
        "print(bilangan_prima_24)"
      ],
      "metadata": {
        "colab": {
          "base_uri": "https://localhost:8080/"
        },
        "id": "sImm8xNKcMEY",
        "outputId": "c47bb68f-d738-4769-ad7a-94e19167cf18"
      },
      "execution_count": 58,
      "outputs": [
        {
          "output_type": "stream",
          "name": "stdout",
          "text": [
            "(2, 3, 5, 7, 11)\n"
          ]
        }
      ]
    },
    {
      "cell_type": "code",
      "source": [
        "print(bilangan_prima_24[1])"
      ],
      "metadata": {
        "colab": {
          "base_uri": "https://localhost:8080/"
        },
        "id": "S0gstKFBck9G",
        "outputId": "dd05fe86-f535-4ad6-fa96-5a490bdcdadd"
      },
      "execution_count": 59,
      "outputs": [
        {
          "output_type": "stream",
          "name": "stdout",
          "text": [
            "3\n"
          ]
        }
      ]
    },
    {
      "cell_type": "code",
      "source": [
        "print(bilangan_prima_24[3:4])"
      ],
      "metadata": {
        "colab": {
          "base_uri": "https://localhost:8080/"
        },
        "id": "TccC4EnActIo",
        "outputId": "778140fd-c88b-4591-f457-74208c84b5e0"
      },
      "execution_count": 60,
      "outputs": [
        {
          "output_type": "stream",
          "name": "stdout",
          "text": [
            "(7,)\n"
          ]
        }
      ]
    },
    {
      "cell_type": "code",
      "source": [
        "print(bilangan_prima_24[1:4])"
      ],
      "metadata": {
        "colab": {
          "base_uri": "https://localhost:8080/"
        },
        "id": "Scma6PvTc2GA",
        "outputId": "c17f55fb-ddda-4292-9281-0017585d6fb6"
      },
      "execution_count": 61,
      "outputs": [
        {
          "output_type": "stream",
          "name": "stdout",
          "text": [
            "(3, 5, 7)\n"
          ]
        }
      ]
    },
    {
      "cell_type": "code",
      "source": [
        "for isi in bilangan_prima_24[1:4]:\n",
        "    print(isi)"
      ],
      "metadata": {
        "colab": {
          "base_uri": "https://localhost:8080/"
        },
        "id": "ZTkrNu7DdGIr",
        "outputId": "362dad51-f416-4059-d147-c811ceb10746"
      },
      "execution_count": 62,
      "outputs": [
        {
          "output_type": "stream",
          "name": "stdout",
          "text": [
            "3\n",
            "5\n",
            "7\n"
          ]
        }
      ]
    },
    {
      "cell_type": "code",
      "source": [
        "bilangan_prima_24.count(2)"
      ],
      "metadata": {
        "colab": {
          "base_uri": "https://localhost:8080/"
        },
        "id": "CUMEjS2_dSqp",
        "outputId": "d23a1a5f-19b5-486e-8f88-f3bb292893b0"
      },
      "execution_count": 63,
      "outputs": [
        {
          "output_type": "execute_result",
          "data": {
            "text/plain": [
              "1"
            ]
          },
          "metadata": {},
          "execution_count": 63
        }
      ]
    },
    {
      "cell_type": "code",
      "source": [
        "bilangan_prima_24.count(3)"
      ],
      "metadata": {
        "colab": {
          "base_uri": "https://localhost:8080/"
        },
        "id": "bgB7J3uhdbuU",
        "outputId": "aeadf9c2-fd71-4f68-acd2-303e0088f42b"
      },
      "execution_count": 64,
      "outputs": [
        {
          "output_type": "execute_result",
          "data": {
            "text/plain": [
              "1"
            ]
          },
          "metadata": {},
          "execution_count": 64
        }
      ]
    },
    {
      "cell_type": "code",
      "source": [
        "bilangan_prima_24.index(2)"
      ],
      "metadata": {
        "colab": {
          "base_uri": "https://localhost:8080/"
        },
        "id": "p3w4r1j7dgoQ",
        "outputId": "45269724-3cd3-47cf-bdce-b1b900cdd2a9"
      },
      "execution_count": 65,
      "outputs": [
        {
          "output_type": "execute_result",
          "data": {
            "text/plain": [
              "0"
            ]
          },
          "metadata": {},
          "execution_count": 65
        }
      ]
    },
    {
      "cell_type": "code",
      "source": [
        "#2.18(Dictionaries)\n",
        "biodata_diri_24 = {\n",
        "    \"Nama\"    :    \"Ni Luh Mitaherlina Dewi\",\n",
        "    \"Status\"  :     \"Sudah ada pacar\",\n",
        "    \"Tempat,Tanggal Lahir\" : \"Denpasar,19 September 2005\",\n",
        "    \"Alamat\" : \"Jalan Legian Kaja no 447\",\n",
        "    \"Email\" :\"jalanjalan@gmail.com\",\n",
        "    \"Agama\" : \"Hindu\",\n",
        "    \"Kewarganegaraan\" : \"Indonesia\"\n",
        "}\n",
        "print(biodata_diri_24)"
      ],
      "metadata": {
        "colab": {
          "base_uri": "https://localhost:8080/"
        },
        "id": "k8UaSQHUdlho",
        "outputId": "77482329-ac55-4411-80eb-9e249534cc71"
      },
      "execution_count": 66,
      "outputs": [
        {
          "output_type": "stream",
          "name": "stdout",
          "text": [
            "{'Nama': 'Ni Luh Mitaherlina Dewi', 'Status': 'Sudah ada pacar', 'Tempat,Tanggal Lahir': 'Denpasar,19 September 2005', 'Alamat': 'Jalan Legian Kaja no 447', 'Email': 'jalanjalan@gmail.com', 'Agama': 'Hindu', 'Kewarganegaraan': 'Indonesia'}\n"
          ]
        }
      ]
    },
    {
      "cell_type": "code",
      "source": [
        "print(biodata_diri_24['Nama'])"
      ],
      "metadata": {
        "colab": {
          "base_uri": "https://localhost:8080/"
        },
        "id": "hbhKMlojf4ok",
        "outputId": "12baab27-0218-4229-8d0d-ede7b5e1727f"
      },
      "execution_count": 67,
      "outputs": [
        {
          "output_type": "stream",
          "name": "stdout",
          "text": [
            "Ni Luh Mitaherlina Dewi\n"
          ]
        }
      ]
    },
    {
      "cell_type": "code",
      "source": [
        "print(biodata_diri_24['Alamat'])"
      ],
      "metadata": {
        "colab": {
          "base_uri": "https://localhost:8080/"
        },
        "id": "Yx1L9kwngDIU",
        "outputId": "1e3b62f9-10d4-4427-968c-3864bf4e0742"
      },
      "execution_count": 69,
      "outputs": [
        {
          "output_type": "stream",
          "name": "stdout",
          "text": [
            "Jalan Legian Kaja no 447\n"
          ]
        }
      ]
    },
    {
      "cell_type": "code",
      "source": [
        "print(biodata_diri_24['Status'])"
      ],
      "metadata": {
        "colab": {
          "base_uri": "https://localhost:8080/"
        },
        "id": "ko9yTs_ygc5n",
        "outputId": "0df1269a-19d6-4413-c497-29245602ddd5"
      },
      "execution_count": 68,
      "outputs": [
        {
          "output_type": "stream",
          "name": "stdout",
          "text": [
            "Sudah ada pacar\n"
          ]
        }
      ]
    },
    {
      "cell_type": "code",
      "source": [
        "biodata_diri_24['No Hp'] = '081933110686'\n",
        "print(biodata_diri_24[\"No Hp\"])"
      ],
      "metadata": {
        "colab": {
          "base_uri": "https://localhost:8080/"
        },
        "id": "0P64bjnfhPOq",
        "outputId": "25c10a26-a03f-4d8e-ff72-bdb42d3e16ca"
      },
      "execution_count": 70,
      "outputs": [
        {
          "output_type": "stream",
          "name": "stdout",
          "text": [
            "081933110686\n"
          ]
        }
      ]
    },
    {
      "cell_type": "code",
      "source": [
        "print(biodata_diri_24)"
      ],
      "metadata": {
        "colab": {
          "base_uri": "https://localhost:8080/"
        },
        "id": "-6Fil7SjhfIh",
        "outputId": "a35a06fa-a9a6-4a7f-fecc-8cc0943da26e"
      },
      "execution_count": 71,
      "outputs": [
        {
          "output_type": "stream",
          "name": "stdout",
          "text": [
            "{'Nama': 'Ni Luh Mitaherlina Dewi', 'Status': 'Sudah ada pacar', 'Tempat,Tanggal Lahir': 'Denpasar,19 September 2005', 'Alamat': 'Jalan Legian Kaja no 447', 'Email': 'jalanjalan@gmail.com', 'Agama': 'Hindu', 'Kewarganegaraan': 'Indonesia', 'No Hp': '081933110686'}\n"
          ]
        }
      ]
    },
    {
      "cell_type": "code",
      "source": [
        "No_Hp_24 = {\n",
        "    \"0\" : \"zero\",\n",
        "    \"1\" : \"one\",\n",
        "    \"2\" : \"two\",\n",
        "    \"3\" : \"three\",\n",
        "    \"4\" : \"four\",\n",
        "    \"5\" : \"five\",\n",
        "    \"6\" : \"six\",\n",
        "    \"7\" : \"seven\",\n",
        "    \"8\" : \"eight\",\n",
        "    \"9\" : \"nine\"\n",
        "}\n",
        "Nomor_Hp_24 = input(\"Berapakah nomor Hp kamu? \")\n",
        "Nomornya = \"\"\n",
        "for isi in Nomor_Hp_24:\n",
        "    Nomornya += No_Hp_24.get(isi) + \" \"\n",
        "print(Nomornya)"
      ],
      "metadata": {
        "colab": {
          "base_uri": "https://localhost:8080/"
        },
        "id": "7NTyydv5hmw4",
        "outputId": "a39f61af-0474-4a33-f6ca-7db542416bcb"
      },
      "execution_count": 72,
      "outputs": [
        {
          "output_type": "stream",
          "name": "stdout",
          "text": [
            "Berapakah nomor Hp kamu? 098763537618\n",
            "zero nine eight seven six three five three seven six one eight \n"
          ]
        }
      ]
    },
    {
      "cell_type": "code",
      "source": [
        "penyanyi_24 = {\n",
        "    \"Artis 1\" : \"Yura Yunita\",\n",
        "    \"Artis 2\" : \"Tulus\",\n",
        "    \"Artis 3\" : \"Feby Putri\",\n",
        "    \"Artis 4\" : \"IDGTAF\",\n",
        "    \"Artis 5\" : \"Nadine Hamizah\"\n",
        "}\n",
        "print(penyanyi_24['Artis 2'])"
      ],
      "metadata": {
        "colab": {
          "base_uri": "https://localhost:8080/"
        },
        "id": "y-myvLMEjax6",
        "outputId": "a423d814-04a6-4ee2-ec1e-7bbdd0f56e64"
      },
      "execution_count": 73,
      "outputs": [
        {
          "output_type": "stream",
          "name": "stdout",
          "text": [
            "Tulus\n"
          ]
        }
      ]
    },
    {
      "cell_type": "code",
      "source": [
        "print(penyanyi_24)"
      ],
      "metadata": {
        "colab": {
          "base_uri": "https://localhost:8080/"
        },
        "id": "68LyoE5Ck48C",
        "outputId": "2bffb69a-9f53-4726-d1cc-ceee5fb22c52"
      },
      "execution_count": 74,
      "outputs": [
        {
          "output_type": "stream",
          "name": "stdout",
          "text": [
            "{'Artis 1': 'Yura Yunita', 'Artis 2': 'Tulus', 'Artis 3': 'Feby Putri', 'Artis 4': 'IDGTAF', 'Artis 5': 'Nadine Hamizah'}\n"
          ]
        }
      ]
    },
    {
      "cell_type": "code",
      "source": [
        "print(penyanyi_24.get('Artis 3'))"
      ],
      "metadata": {
        "colab": {
          "base_uri": "https://localhost:8080/"
        },
        "id": "aO1Kbujuk_ax",
        "outputId": "e0de257c-ad27-474d-afaf-47e3ee79086e"
      },
      "execution_count": 75,
      "outputs": [
        {
          "output_type": "stream",
          "name": "stdout",
          "text": [
            "Feby Putri\n"
          ]
        }
      ]
    },
    {
      "cell_type": "code",
      "source": [
        "print(penyanyi_24.get('Artis 1'))"
      ],
      "metadata": {
        "colab": {
          "base_uri": "https://localhost:8080/"
        },
        "id": "abmQY__TlMCm",
        "outputId": "25805597-d198-4b2f-842a-edfb9838c0d5"
      },
      "execution_count": 76,
      "outputs": [
        {
          "output_type": "stream",
          "name": "stdout",
          "text": [
            "Yura Yunita\n"
          ]
        }
      ]
    },
    {
      "cell_type": "code",
      "source": [
        "#2.19(Fungsi dalam Python)\n",
        "def nama_lengkap_24(nama_depan_24,nama_belakang_24):\n",
        "    print(f\"Ohhh nama kamu {nama_depan_24} {nama_belakang_24}\")\n",
        "nama_depan_24 = input(\"Siapakah nama depan kamu? \")\n",
        "nama_belakang_24 = input(\"Nama belakangnya siapa? \")\n",
        "nama_lengkap_24(nama_depan_24,nama_belakang_24)"
      ],
      "metadata": {
        "colab": {
          "base_uri": "https://localhost:8080/"
        },
        "id": "8TN6t3vAlUs2",
        "outputId": "15538cf8-de20-45f9-ddff-f9885e3605e6"
      },
      "execution_count": 82,
      "outputs": [
        {
          "output_type": "stream",
          "name": "stdout",
          "text": [
            "Siapakah nama depan kamu? Mitaherlina\n",
            "Nama belakangnya siapa? Dewi\n",
            "Ohhh nama kamu Mitaherlina Dewi\n"
          ]
        }
      ]
    },
    {
      "cell_type": "code",
      "source": [
        "def keliling_persegi_24(sisi):\n",
        "    keliling_persegi_24 = 4*sisi\n",
        "    print(keliling_persegi_24)"
      ],
      "metadata": {
        "id": "geUT6oQJm2nR"
      },
      "execution_count": 78,
      "outputs": []
    },
    {
      "cell_type": "code",
      "source": [
        "def luas_persegi_24(sisi):\n",
        "    luas_persegi_24 = sisi**2\n",
        "    return luas_persegi_24"
      ],
      "metadata": {
        "id": "I4HiSsnE-7LG"
      },
      "execution_count": 86,
      "outputs": []
    },
    {
      "cell_type": "code",
      "source": [
        "keliling_persegi_24(30)"
      ],
      "metadata": {
        "colab": {
          "base_uri": "https://localhost:8080/"
        },
        "id": "DE0sQqoVALhN",
        "outputId": "233600ee-58ab-4cf8-9163-040c3776432f"
      },
      "execution_count": 80,
      "outputs": [
        {
          "output_type": "stream",
          "name": "stdout",
          "text": [
            "120\n"
          ]
        }
      ]
    },
    {
      "cell_type": "code",
      "source": [
        "luas_persegi_24(16)"
      ],
      "metadata": {
        "colab": {
          "base_uri": "https://localhost:8080/"
        },
        "id": "GmiResKfAR83",
        "outputId": "a1132d03-0a9e-4de5-886a-f05b427094b5"
      },
      "execution_count": 87,
      "outputs": [
        {
          "output_type": "execute_result",
          "data": {
            "text/plain": [
              "256"
            ]
          },
          "metadata": {},
          "execution_count": 87
        }
      ]
    },
    {
      "cell_type": "code",
      "source": [
        "x = keliling_persegi_24(30)\n",
        "print(x)"
      ],
      "metadata": {
        "colab": {
          "base_uri": "https://localhost:8080/"
        },
        "id": "wcekZO4IAh6F",
        "outputId": "eb723ffe-f91c-424e-cc94-1472ba275eb0"
      },
      "execution_count": 84,
      "outputs": [
        {
          "output_type": "stream",
          "name": "stdout",
          "text": [
            "120\n",
            "None\n"
          ]
        }
      ]
    },
    {
      "cell_type": "code",
      "source": [
        "y = luas_persegi_24(16)\n",
        "print(y)"
      ],
      "metadata": {
        "colab": {
          "base_uri": "https://localhost:8080/"
        },
        "id": "uhCoEHRAAq1i",
        "outputId": "80398860-fe50-45d6-86ea-40bcd0c5cb2d"
      },
      "execution_count": 85,
      "outputs": [
        {
          "output_type": "stream",
          "name": "stdout",
          "text": [
            "256\n"
          ]
        }
      ]
    },
    {
      "cell_type": "code",
      "source": [
        "bidang_datar_24 = input(\"Bidang datar apakah itu? \")\n",
        "if bidang_datar_24.upper() == 'JAJAR GENJANG':\n",
        "    alas = float(input('Berapakah panjang alas dari jajar genjang? '))\n",
        "    tinggi = float(input('Lalu tingginya berapa? '))\n",
        "    luas = luas_jajar_genjang(alas,tinggi)\n",
        "    print(f\"Luasnya {bidang_datar_24} adalah {luas}\")\n",
        "elif bidang_datar_24.upper() == 'TRAPESIUM':\n",
        "    sisi1 = float(input('Sisi atasnya berapa? '))\n",
        "    sisi2 = float(input('Sisi bawahnya berapa? '))\n",
        "    tinggi = float(input('Berapa tingginya? '))\n",
        "    luas = luas_trapesium(sisi1,sisi2,tinggi)\n",
        "    print(f\"Luas dari {bidang_datar_24} adalah {luas}\")\n",
        "elif bidang_datar_24.upper() == 'BELAH KETUPAT':\n",
        "    diagonal1 = float(input('Berapa panjang diagonal yang pertama? '))\n",
        "    diagonal2 = float(input('Berapa panjang diagonal yang kedua? '))\n",
        "    luas = luas_belah_ketupat(diagonal1,diagonal2)\n",
        "    print(f\"Luas dari {bidang_datar_24} adalah {luas}\")\n",
        "else:\n",
        "    print(f\"Sorry bidang {bidang_datar_24} yang anda maksud tidak masuk dalam list saya. \")\n",
        "    print(\"Disini cuma ada JAJARGENJANG, TRAPESIUM dan BELAH KETUPAT.\")\n",
        "    print(\"Maaf apakah anda ada saran?\")\n",
        "    print(\"Baik, terima kasih\")\n"
      ],
      "metadata": {
        "colab": {
          "base_uri": "https://localhost:8080/"
        },
        "id": "iBcYWl2aAz6F",
        "outputId": "b76e085c-176b-49b2-af1a-d419767c1e90"
      },
      "execution_count": 92,
      "outputs": [
        {
          "output_type": "stream",
          "name": "stdout",
          "text": [
            "Bidang datar apakah itu? JAJARGENJANG\n",
            "Sorry bidang JAJARGENJANG yang anda maksud tidak masuk dalam list saya. \n",
            "Disini cuma ada JAJARGENJANG, TRAPESIUM dan BELAH KETUPAT.\n",
            "Maaf apakah anda ada saran?\n",
            "Baik, terima kasih\n"
          ]
        }
      ]
    },
    {
      "cell_type": "code",
      "source": [
        "\n",
        "def pekerjaan_24(pekerjaan1_24,pekerjaan2_24):\n",
        "    print(f\"Jadi kamu berkerja sebagai {pekerjaan1_24} dan {pekerjaan2_24}\")\n",
        "pekerjaan1_24 = input(\"Apa pekerjaan kamu yang pertama? \")\n",
        "pekerjaan2_24 = input(\"Yang kedua bekerja sebagai apa? \")\n",
        "pekerjaan_24(pekerjaan1_24,pekerjaan2_24)\n"
      ],
      "metadata": {
        "colab": {
          "base_uri": "https://localhost:8080/"
        },
        "outputId": "cbde2534-7873-4107-f751-29951e19c51f",
        "id": "N5Uurb8AId6k"
      },
      "execution_count": 93,
      "outputs": [
        {
          "output_type": "stream",
          "name": "stdout",
          "text": [
            "Apa pekerjaan kamu yang pertama? guru\n",
            "Yang kedua bekerja sebagai apa? tiktokers\n",
            "Jadi kamu berkerja sebagai guru dan tiktokers\n"
          ]
        }
      ]
    },
    {
      "cell_type": "code",
      "source": [],
      "metadata": {
        "id": "2GlcvEVzJLIw"
      },
      "execution_count": null,
      "outputs": []
    }
  ]
}