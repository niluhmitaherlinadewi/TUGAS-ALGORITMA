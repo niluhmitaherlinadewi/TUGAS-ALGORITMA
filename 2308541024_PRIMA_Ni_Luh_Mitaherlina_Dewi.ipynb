{
  "nbformat": 4,
  "nbformat_minor": 0,
  "metadata": {
    "colab": {
      "provenance": []
    },
    "kernelspec": {
      "name": "python3",
      "display_name": "Python 3"
    },
    "language_info": {
      "name": "python"
    }
  },
  "cells": [
    {
      "cell_type": "markdown",
      "source": [
        "Jika diketahui n adalah 24, maka tentukan bilangan prima antara 1000n dan 1000(n+1)\n"
      ],
      "metadata": {
        "id": "rW_TX6HyQZfd"
      }
    },
    {
      "cell_type": "code",
      "source": [
        "# 1. Mendefinisikan rentangnya\n",
        "n_24 = 24\n",
        "batas_bawah_24 = 1000 * n_24\n",
        "batas_atas_24 = 1000 * (n_24 + 1)\n",
        "# 2. Memeriksa apakah a bilangan prima\n",
        "def bilangan_prima(a_24):\n",
        "  if a_24 <= 1:\n",
        "      return False\n",
        "  if a_24 <= 3:\n",
        "      return True\n",
        "  if a_24 % 2 == 0 or a_24 % 3 == 0:\n",
        "      return False\n",
        "# 3. Memeriksa faktor 5 hingga akar kuadrat dari a\n",
        "  i_24 = 5\n",
        "  while i_24 * i_24 <= a_24:\n",
        "      if a_24 % i_24 == 0 or a_24 % (i_24 + 2) == 0:\n",
        "          return False\n",
        "      i_24 += 6\n",
        "  return True\n",
        "# 4. Memeriksa setiap bilangan yang berada diantara 24000 dan 25000\n",
        "def menemukan_bilangan_prima(batas_bawah_24, batas_atas_24):\n",
        "    prima = []\n",
        "    for a_24 in range(batas_bawah_24, batas_atas_24 + 1):\n",
        "        if bilangan_prima(a_24):\n",
        "            prima.append(a_24)\n",
        "    return prima\n",
        "\n",
        "# 5. Mencari bilangan prima dalam rentang tersebut\n",
        "bilangan_prima_24 = menemukan_bilangan_prima(batas_bawah_24, batas_atas_24)\n",
        "print(\"Bilangan prima yang ada pada rentang 24000 dan 25000 adalah \" + str (bilangan_prima_24))\n"
      ],
      "metadata": {
        "colab": {
          "base_uri": "https://localhost:8080/"
        },
        "id": "XxbskZ2BtDbd",
        "outputId": "7a74e27e-8bc1-46d0-a719-f10edaf37783"
      },
      "execution_count": 5,
      "outputs": [
        {
          "output_type": "stream",
          "name": "stdout",
          "text": [
            "Bilangan prima yang ada pada rentang 24000 dan 25000 adalah [24001, 24007, 24019, 24023, 24029, 24043, 24049, 24061, 24071, 24077, 24083, 24091, 24097, 24103, 24107, 24109, 24113, 24121, 24133, 24137, 24151, 24169, 24179, 24181, 24197, 24203, 24223, 24229, 24239, 24247, 24251, 24281, 24317, 24329, 24337, 24359, 24371, 24373, 24379, 24391, 24407, 24413, 24419, 24421, 24439, 24443, 24469, 24473, 24481, 24499, 24509, 24517, 24527, 24533, 24547, 24551, 24571, 24593, 24611, 24623, 24631, 24659, 24671, 24677, 24683, 24691, 24697, 24709, 24733, 24749, 24763, 24767, 24781, 24793, 24799, 24809, 24821, 24841, 24847, 24851, 24859, 24877, 24889, 24907, 24917, 24919, 24923, 24943, 24953, 24967, 24971, 24977, 24979, 24989]\n"
          ]
        }
      ]
    },
    {
      "cell_type": "code",
      "source": [],
      "metadata": {
        "id": "vPyuAx27LoOl"
      },
      "execution_count": null,
      "outputs": []
    }
  ]
}